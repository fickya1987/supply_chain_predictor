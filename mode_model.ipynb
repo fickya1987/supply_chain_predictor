{
 "cells": [
  {
   "cell_type": "code",
   "execution_count": 1,
   "id": "497ea76d-e8da-446b-8405-6743e5b9a443",
   "metadata": {},
   "outputs": [],
   "source": [
    "import pandas as pd\n",
    "import numpy as np\n",
    "from sklearn.pipeline import Pipeline, FeatureUnion\n",
    "from sklearn.preprocessing import OneHotEncoder, LabelEncoder, StandardScaler, FunctionTransformer\n",
    "from sklearn.compose import ColumnTransformer\n",
    "from sklearn.model_selection import train_test_split\n",
    "from sklearn.metrics import confusion_matrix, classification_report\n",
    "import matplotlib.pyplot as plt\n",
    "from scipy.sparse import csr_matrix\n",
    "import seaborn as sns\n",
    "import pickle\n",
    "from imblearn.over_sampling import ADASYN\n",
    "import tensorflow as tf"
   ]
  },
  {
   "cell_type": "code",
   "execution_count": 2,
   "id": "e7b72f69-7374-4925-9fab-d275f8affb7c",
   "metadata": {},
   "outputs": [],
   "source": [
    "df = pd.read_csv('pre_encoding_data.csv')"
   ]
  },
  {
   "cell_type": "code",
   "execution_count": 3,
   "id": "e0015492-dfe2-4e79-83db-1988f5a7929f",
   "metadata": {},
   "outputs": [
    {
     "data": {
      "text/plain": [
       "Index(['proj_code', 'country', 'via', 'inco', 'ship_mode', 'prod_grp',\n",
       "       'sub_class', 'vendor', 'brand', 'dosage', 'dosage_form', 'per_pack_qty',\n",
       "       'line_qty', 'line_value', 'pack_price', 'unit_price', 'manu_site',\n",
       "       'first_line', 'weight', 'freight', 'insurance', 'delay', 'total_cost',\n",
       "       'quote_year', 'quote_month', 'quote_day', 'po_year', 'po_month',\n",
       "       'po_day', 'sch_del_year', 'sch_del_month', 'sch_del_day',\n",
       "       'actual_del_year', 'actual_del_month', 'actual_del_day'],\n",
       "      dtype='object')"
      ]
     },
     "execution_count": 3,
     "metadata": {},
     "output_type": "execute_result"
    }
   ],
   "source": [
    "df.columns"
   ]
  },
  {
   "cell_type": "code",
   "execution_count": 4,
   "id": "0538161a-8907-4d57-8b6f-503f1c5dca9f",
   "metadata": {},
   "outputs": [],
   "source": [
    "# Drop unnecessary columns to prevent overfitting\n",
    "df = df.drop(['prod_grp','sub_class','brand', 'dosage', 'dosage_form', 'per_pack_qty','line_qty','pack_price', 'unit_price',\n",
    "              'first_line', 'delay','actual_del_year', 'actual_del_month', 'actual_del_day','freight','total_cost'], axis=1)"
   ]
  },
  {
   "cell_type": "code",
   "execution_count": 5,
   "id": "7cd34992-ae13-45cf-9b20-e4711e035339",
   "metadata": {},
   "outputs": [
    {
     "data": {
      "text/plain": [
       "Index(['proj_code', 'country', 'via', 'inco', 'ship_mode', 'vendor',\n",
       "       'line_value', 'manu_site', 'weight', 'insurance', 'quote_year',\n",
       "       'quote_month', 'quote_day', 'po_year', 'po_month', 'po_day',\n",
       "       'sch_del_year', 'sch_del_month', 'sch_del_day'],\n",
       "      dtype='object')"
      ]
     },
     "execution_count": 5,
     "metadata": {},
     "output_type": "execute_result"
    }
   ],
   "source": [
    "df.columns"
   ]
  },
  {
   "cell_type": "code",
   "execution_count": 6,
   "id": "fea7b883-2c7f-41bb-b721-12b74a60251f",
   "metadata": {},
   "outputs": [],
   "source": [
    "cat_feats = df.dtypes[df.dtypes == 'object'].index.tolist()\n",
    "num_feats = df.dtypes[~df.dtypes.index.isin(cat_feats)].index.tolist()\n",
    "\n",
    "#Convert cat_feats to categorical\n",
    "for col in cat_feats:\n",
    "    df[col] = df[col].astype('str')\n",
    "\n",
    "# Removing Shipment Mode from cat_feats as it is the dependant variable\n",
    "cat_feats.remove('ship_mode')"
   ]
  },
  {
   "cell_type": "code",
   "execution_count": 7,
   "id": "facac49f-3a2a-4679-ab52-772431c4a264",
   "metadata": {},
   "outputs": [],
   "source": [
    "X = df.drop(columns=['ship_mode'])\n",
    "l = LabelEncoder()\n",
    "y = l.fit_transform(df['ship_mode'])"
   ]
  },
  {
   "cell_type": "code",
   "execution_count": 8,
   "id": "4dcc48b4-175e-4eea-9965-6ad7aa4d8ca7",
   "metadata": {},
   "outputs": [],
   "source": [
    "LABEL_MAP = dict(zip(l.classes_, l.transform(l.classes_)))"
   ]
  },
  {
   "cell_type": "code",
   "execution_count": 9,
   "id": "b171679d-5a34-40ae-bfff-2741a90c053d",
   "metadata": {
    "tags": []
   },
   "outputs": [],
   "source": [
    "# Create Pipeline\n",
    "numerical = Pipeline([('standard_scaler', StandardScaler())])\n",
    "                            \n",
    "categorical = Pipeline([('encode', OneHotEncoder()),('Dense',FunctionTransformer(csr_matrix.todense))])\n",
    "\n",
    "preprocess = ColumnTransformer([('categorical', categorical, cat_feats),('numerical', numerical, num_feats)])"
   ]
  },
  {
   "cell_type": "code",
   "execution_count": 10,
   "id": "5a262f69-98a5-40cb-9480-0eca58beec03",
   "metadata": {
    "tags": []
   },
   "outputs": [],
   "source": [
    "#Fit Preprocess to data\n",
    "X = preprocess.fit_transform(X)\n",
    "# Use Adaptive Synthetic Sampling Approach to remove imbalance in data\n",
    "ada = ADASYN()\n",
    "X, y = ada.fit_resample(X, y)"
   ]
  },
  {
   "cell_type": "code",
   "execution_count": 11,
   "id": "74d77fec-c7cc-4697-a188-c177ad163e8b",
   "metadata": {},
   "outputs": [
    {
     "data": {
      "text/plain": [
       "(24633, 367)"
      ]
     },
     "execution_count": 11,
     "metadata": {},
     "output_type": "execute_result"
    }
   ],
   "source": [
    "X.shape"
   ]
  },
  {
   "cell_type": "code",
   "execution_count": 12,
   "id": "7a699561-babd-4b01-ac04-e1df6a9d9339",
   "metadata": {
    "tags": []
   },
   "outputs": [],
   "source": [
    "# save the preprocess\n",
    "pickle.dump(preprocess, open('preprocess2.pkl', 'wb'))"
   ]
  },
  {
   "cell_type": "code",
   "execution_count": 13,
   "id": "fb6a09d8-c4d9-437d-878a-80977b022bda",
   "metadata": {},
   "outputs": [
    {
     "data": {
      "text/plain": [
       "(18474, 367)"
      ]
     },
     "execution_count": 13,
     "metadata": {},
     "output_type": "execute_result"
    }
   ],
   "source": [
    "# Train test split\n",
    "X_train, X_test, y_train, y_test = train_test_split(X,y, test_size=0.25, random_state=50)\n",
    "X_train.shape"
   ]
  },
  {
   "cell_type": "code",
   "execution_count": 35,
   "id": "fd6c723d-a33e-4d7b-987c-8da823ee2bb6",
   "metadata": {
    "collapsed": true,
    "jupyter": {
     "outputs_hidden": true
    },
    "tags": []
   },
   "outputs": [
    {
     "name": "stdout",
     "output_type": "stream",
     "text": [
      "Epoch 1/100\n",
      "462/462 [==============================] - 2s 4ms/step - loss: 0.2718 - accuracy: 0.9078 - val_loss: 0.1512 - val_accuracy: 0.9497\n",
      "Epoch 2/100\n",
      "462/462 [==============================] - 2s 4ms/step - loss: 0.1243 - accuracy: 0.9595 - val_loss: 0.1140 - val_accuracy: 0.9618\n",
      "Epoch 3/100\n",
      "462/462 [==============================] - 2s 4ms/step - loss: 0.0984 - accuracy: 0.9670 - val_loss: 0.1012 - val_accuracy: 0.9673\n",
      "Epoch 4/100\n",
      "462/462 [==============================] - 2s 4ms/step - loss: 0.0870 - accuracy: 0.9719 - val_loss: 0.1049 - val_accuracy: 0.9675\n",
      "Epoch 5/100\n",
      "462/462 [==============================] - 2s 4ms/step - loss: 0.0746 - accuracy: 0.9743 - val_loss: 0.1117 - val_accuracy: 0.9710\n",
      "Epoch 6/100\n",
      "462/462 [==============================] - 2s 5ms/step - loss: 0.0681 - accuracy: 0.9769 - val_loss: 0.0969 - val_accuracy: 0.9732\n",
      "Epoch 7/100\n",
      "462/462 [==============================] - 2s 5ms/step - loss: 0.0678 - accuracy: 0.9786 - val_loss: 0.1001 - val_accuracy: 0.9713\n",
      "Epoch 8/100\n",
      "462/462 [==============================] - 2s 4ms/step - loss: 0.0549 - accuracy: 0.9811 - val_loss: 0.0960 - val_accuracy: 0.9743\n",
      "Epoch 9/100\n",
      "462/462 [==============================] - 2s 4ms/step - loss: 0.0544 - accuracy: 0.9812 - val_loss: 0.0887 - val_accuracy: 0.9737\n",
      "Epoch 10/100\n",
      "462/462 [==============================] - 2s 4ms/step - loss: 0.0471 - accuracy: 0.9848 - val_loss: 0.0966 - val_accuracy: 0.9727\n",
      "Epoch 11/100\n",
      "462/462 [==============================] - 2s 4ms/step - loss: 0.0473 - accuracy: 0.9846 - val_loss: 0.0952 - val_accuracy: 0.9759\n",
      "Epoch 12/100\n",
      "462/462 [==============================] - 2s 4ms/step - loss: 0.0512 - accuracy: 0.9840 - val_loss: 0.0853 - val_accuracy: 0.9778\n",
      "Epoch 13/100\n",
      "462/462 [==============================] - 2s 4ms/step - loss: 0.0336 - accuracy: 0.9881 - val_loss: 0.0879 - val_accuracy: 0.9797\n",
      "Epoch 14/100\n",
      "462/462 [==============================] - 2s 4ms/step - loss: 0.0349 - accuracy: 0.9875 - val_loss: 0.0952 - val_accuracy: 0.9794\n",
      "Epoch 15/100\n",
      "462/462 [==============================] - 2s 4ms/step - loss: 0.0335 - accuracy: 0.9878 - val_loss: 0.0936 - val_accuracy: 0.9797\n",
      "Epoch 16/100\n",
      "462/462 [==============================] - 2s 4ms/step - loss: 0.0301 - accuracy: 0.9896 - val_loss: 0.0927 - val_accuracy: 0.9781\n",
      "Epoch 17/100\n",
      "462/462 [==============================] - 2s 4ms/step - loss: 0.0281 - accuracy: 0.9894 - val_loss: 0.1054 - val_accuracy: 0.9775\n"
     ]
    }
   ],
   "source": [
    "inputs = tf.keras.Input(shape=X_train.shape[1])\n",
    "hide1 = tf.keras.layers.Dense(256, activation='relu')(inputs)\n",
    "hide2 = tf.keras.layers.Dense(128, activation='relu')(hide1)\n",
    "hide3 = tf.keras.layers.Dense(64, activation='relu')(hide2)\n",
    "hide4 = tf.keras.layers.Dense(32, activation='relu')(hide3)\n",
    "outputs = tf.keras.layers.Dense(4, activation='softmax')(hide4)\n",
    "\n",
    "model = tf.keras.Model(inputs=inputs, outputs=outputs)\n",
    "\n",
    "model.compile(optimizer='adam',loss='sparse_categorical_crossentropy',metrics=['accuracy'])\n",
    "\n",
    "history = model.fit(X_train,y_train,validation_split=0.2,batch_size=32,epochs=100,\n",
    "    callbacks=[tf.keras.callbacks.EarlyStopping(monitor='val_loss', patience=5, restore_best_weights=True)])"
   ]
  },
  {
   "cell_type": "code",
   "execution_count": 27,
   "id": "ed4ba697-d1de-4b17-9c70-268008fb8ce1",
   "metadata": {},
   "outputs": [
    {
     "name": "stdout",
     "output_type": "stream",
     "text": [
      "Test Set Accuracy: 97.30%\n"
     ]
    },
    {
     "data": {
      "image/png": "[encoded data removed]",
      "text/plain": [
       "<Figure size 576x576 with 1 Axes>"
      ]
     },
     "metadata": {
      "needs_background": "light"
     },
     "output_type": "display_data"
    },
    {
     "name": "stdout",
     "output_type": "stream",
     "text": [
      "Classification Report:\n",
      "----------------------\n",
      "               precision    recall  f1-score   support\n",
      "\n",
      "         Air       0.98      0.91      0.94      1532\n",
      " Air Charter       0.99      1.00      1.00      1520\n",
      "       Ocean       0.99      1.00      0.99      1577\n",
      "       Truck       0.93      0.98      0.96      1530\n",
      "\n",
      "    accuracy                           0.97      6159\n",
      "   macro avg       0.97      0.97      0.97      6159\n",
      "weighted avg       0.97      0.97      0.97      6159\n",
      "\n"
     ]
    }
   ],
   "source": [
    "# Transform preprocess and save for deployment\n",
    "y_pred = np.argmax(model.predict(X_test), axis=1)\n",
    "\n",
    "cm = confusion_matrix(y_test, y_pred, labels=list(LABEL_MAP.values()))\n",
    "clr = classification_report(y_test, y_pred, labels=list(LABEL_MAP.values()), target_names=list(LABEL_MAP.keys()))\n",
    "\n",
    "print(\"Test Set Accuracy: {:.2f}%\".format(model.evaluate(X_test, y_test, verbose=0)[1] * 100))\n",
    "\n",
    "plt.figure(figsize=(8, 8))\n",
    "sns.heatmap(cm, annot=True, fmt='g', vmin=0, cmap='Blues', cbar=False)\n",
    "plt.xticks(ticks=[0.5, 1.5, 2.5, 3.5], labels=list(LABEL_MAP.keys()))\n",
    "plt.yticks(ticks=[0.5, 1.5, 2.5, 3.5], labels=list(LABEL_MAP.keys()))\n",
    "plt.xlabel(\"Predicted\")\n",
    "plt.ylabel(\"Actual\")\n",
    "plt.title(\"Confusion Matrix\")\n",
    "plt.show()\n",
    "\n",
    "print(\"Classification Report:\\n----------------------\\n\", clr)"
   ]
  },
  {
   "cell_type": "code",
   "execution_count": 37,
   "id": "a39f63cf-b630-462c-b10d-bfba49a4892c",
   "metadata": {},
   "outputs": [
    {
     "name": "stdout",
     "output_type": "stream",
     "text": [
      "INFO:tensorflow:Assets written to: best_mode_transport2/assets\n"
     ]
    }
   ],
   "source": [
    "# Save the model\n",
    "model.save('best_mode_transport2')"
   ]
  },
  {
   "cell_type": "code",
   "execution_count": 19,
   "id": "0fac804e-b175-4540-857a-2a3b6085c4bb",
   "metadata": {},
   "outputs": [],
   "source": [
    "#from ann_visualizer.visualize import ann_viz"
   ]
  },
  {
   "cell_type": "code",
   "execution_count": null,
   "id": "a5463481-459f-4f25-8cc6-46728dae24d7",
   "metadata": {},
   "outputs": [],
   "source": [
    "#ann_viz(model, view=True, filename='mode_network.gv', title='Neuarl Network To Predict Best Mode')"
   ]
  },
  {
   "cell_type": "code",
   "execution_count": null,
   "id": "283e57a7-f1a9-4398-9eba-0f848bf979f7",
   "metadata": {},
   "outputs": [],
   "source": []
  }
 ],
 "metadata": {
  "kernelspec": {
   "display_name": "test_env",
   "language": "python",
   "name": "test_env"
  },
  "language_info": {
   "codemirror_mode": {
    "name": "ipython",
    "version": 3
   },
   "file_extension": ".py",
   "mimetype": "text/x-python",
   "name": "python",
   "nbconvert_exporter": "python",
   "pygments_lexer": "ipython3",
   "version": "3.6.13"
  }
 },
 "nbformat": 4,
 "nbformat_minor": 5
}
