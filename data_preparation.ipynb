{
 "cells": [
  {
   "cell_type": "code",
   "execution_count": 1,
   "id": "57ad41c4-3bc9-4951-935a-d46aeb6f4858",
   "metadata": {},
   "outputs": [],
   "source": [
    "import pandas as pd\n",
    "import numpy as np\n",
    "from datetime import timedelta"
   ]
  },
  {
   "cell_type": "code",
   "execution_count": 2,
   "id": "8f2a882a-01ce-431e-ac26-ec62bc063298",
   "metadata": {},
   "outputs": [],
   "source": [
    "df = pd.read_csv('SCMS_Delivery_History_Dataset.csv')"
   ]
  },
  {
   "cell_type": "code",
   "execution_count": 3,
   "id": "b2a1bd30-8ab2-4da2-9c27-294453a773dc",
   "metadata": {},
   "outputs": [
    {
     "data": {
      "text/html": [
       "<div>\n",
       "<style scoped>\n",
       "    .dataframe tbody tr th:only-of-type {\n",
       "        vertical-align: middle;\n",
       "    }\n",
       "\n",
       "    .dataframe tbody tr th {\n",
       "        vertical-align: top;\n",
       "    }\n",
       "\n",
       "    .dataframe thead th {\n",
       "        text-align: right;\n",
       "    }\n",
       "</style>\n",
       "<table border=\"1\" class=\"dataframe\">\n",
       "  <thead>\n",
       "    <tr style=\"text-align: right;\">\n",
       "      <th></th>\n",
       "      <th>ID</th>\n",
       "      <th>Project Code</th>\n",
       "      <th>PQ #</th>\n",
       "      <th>PO / SO #</th>\n",
       "      <th>ASN/DN #</th>\n",
       "      <th>Country</th>\n",
       "      <th>Managed By</th>\n",
       "      <th>Fulfill Via</th>\n",
       "      <th>Vendor INCO Term</th>\n",
       "      <th>Shipment Mode</th>\n",
       "      <th>...</th>\n",
       "      <th>Unit of Measure (Per Pack)</th>\n",
       "      <th>Line Item Quantity</th>\n",
       "      <th>Line Item Value</th>\n",
       "      <th>Pack Price</th>\n",
       "      <th>Unit Price</th>\n",
       "      <th>Manufacturing Site</th>\n",
       "      <th>First Line Designation</th>\n",
       "      <th>Weight (Kilograms)</th>\n",
       "      <th>Freight Cost (USD)</th>\n",
       "      <th>Line Item Insurance (USD)</th>\n",
       "    </tr>\n",
       "  </thead>\n",
       "  <tbody>\n",
       "    <tr>\n",
       "      <th>0</th>\n",
       "      <td>1</td>\n",
       "      <td>100-CI-T01</td>\n",
       "      <td>Pre-PQ Process</td>\n",
       "      <td>SCMS-4</td>\n",
       "      <td>ASN-8</td>\n",
       "      <td>Côte d'Ivoire</td>\n",
       "      <td>PMO - US</td>\n",
       "      <td>Direct Drop</td>\n",
       "      <td>EXW</td>\n",
       "      <td>Air</td>\n",
       "      <td>...</td>\n",
       "      <td>30</td>\n",
       "      <td>19</td>\n",
       "      <td>551.0</td>\n",
       "      <td>29.00</td>\n",
       "      <td>0.97</td>\n",
       "      <td>Ranbaxy Fine Chemicals LTD</td>\n",
       "      <td>Yes</td>\n",
       "      <td>13</td>\n",
       "      <td>780.34</td>\n",
       "      <td>NaN</td>\n",
       "    </tr>\n",
       "    <tr>\n",
       "      <th>1</th>\n",
       "      <td>3</td>\n",
       "      <td>108-VN-T01</td>\n",
       "      <td>Pre-PQ Process</td>\n",
       "      <td>SCMS-13</td>\n",
       "      <td>ASN-85</td>\n",
       "      <td>Vietnam</td>\n",
       "      <td>PMO - US</td>\n",
       "      <td>Direct Drop</td>\n",
       "      <td>EXW</td>\n",
       "      <td>Air</td>\n",
       "      <td>...</td>\n",
       "      <td>240</td>\n",
       "      <td>1000</td>\n",
       "      <td>6200.0</td>\n",
       "      <td>6.20</td>\n",
       "      <td>0.03</td>\n",
       "      <td>Aurobindo Unit III, India</td>\n",
       "      <td>Yes</td>\n",
       "      <td>358</td>\n",
       "      <td>4521.5</td>\n",
       "      <td>NaN</td>\n",
       "    </tr>\n",
       "    <tr>\n",
       "      <th>2</th>\n",
       "      <td>4</td>\n",
       "      <td>100-CI-T01</td>\n",
       "      <td>Pre-PQ Process</td>\n",
       "      <td>SCMS-20</td>\n",
       "      <td>ASN-14</td>\n",
       "      <td>Côte d'Ivoire</td>\n",
       "      <td>PMO - US</td>\n",
       "      <td>Direct Drop</td>\n",
       "      <td>FCA</td>\n",
       "      <td>Air</td>\n",
       "      <td>...</td>\n",
       "      <td>100</td>\n",
       "      <td>500</td>\n",
       "      <td>40000.0</td>\n",
       "      <td>80.00</td>\n",
       "      <td>0.80</td>\n",
       "      <td>ABBVIE GmbH &amp; Co.KG Wiesbaden</td>\n",
       "      <td>Yes</td>\n",
       "      <td>171</td>\n",
       "      <td>1653.78</td>\n",
       "      <td>NaN</td>\n",
       "    </tr>\n",
       "    <tr>\n",
       "      <th>3</th>\n",
       "      <td>15</td>\n",
       "      <td>108-VN-T01</td>\n",
       "      <td>Pre-PQ Process</td>\n",
       "      <td>SCMS-78</td>\n",
       "      <td>ASN-50</td>\n",
       "      <td>Vietnam</td>\n",
       "      <td>PMO - US</td>\n",
       "      <td>Direct Drop</td>\n",
       "      <td>EXW</td>\n",
       "      <td>Air</td>\n",
       "      <td>...</td>\n",
       "      <td>60</td>\n",
       "      <td>31920</td>\n",
       "      <td>127360.8</td>\n",
       "      <td>3.99</td>\n",
       "      <td>0.07</td>\n",
       "      <td>Ranbaxy, Paonta Shahib, India</td>\n",
       "      <td>Yes</td>\n",
       "      <td>1855</td>\n",
       "      <td>16007.06</td>\n",
       "      <td>NaN</td>\n",
       "    </tr>\n",
       "    <tr>\n",
       "      <th>4</th>\n",
       "      <td>16</td>\n",
       "      <td>108-VN-T01</td>\n",
       "      <td>Pre-PQ Process</td>\n",
       "      <td>SCMS-81</td>\n",
       "      <td>ASN-55</td>\n",
       "      <td>Vietnam</td>\n",
       "      <td>PMO - US</td>\n",
       "      <td>Direct Drop</td>\n",
       "      <td>EXW</td>\n",
       "      <td>Air</td>\n",
       "      <td>...</td>\n",
       "      <td>60</td>\n",
       "      <td>38000</td>\n",
       "      <td>121600.0</td>\n",
       "      <td>3.20</td>\n",
       "      <td>0.05</td>\n",
       "      <td>Aurobindo Unit III, India</td>\n",
       "      <td>Yes</td>\n",
       "      <td>7590</td>\n",
       "      <td>45450.08</td>\n",
       "      <td>NaN</td>\n",
       "    </tr>\n",
       "  </tbody>\n",
       "</table>\n",
       "<p>5 rows × 33 columns</p>\n",
       "</div>"
      ],
      "text/plain": [
       "   ID Project Code            PQ # PO / SO # ASN/DN #        Country  \\\n",
       "0   1   100-CI-T01  Pre-PQ Process    SCMS-4    ASN-8  Côte d'Ivoire   \n",
       "1   3   108-VN-T01  Pre-PQ Process   SCMS-13   ASN-85        Vietnam   \n",
       "2   4   100-CI-T01  Pre-PQ Process   SCMS-20   ASN-14  Côte d'Ivoire   \n",
       "3  15   108-VN-T01  Pre-PQ Process   SCMS-78   ASN-50        Vietnam   \n",
       "4  16   108-VN-T01  Pre-PQ Process   SCMS-81   ASN-55        Vietnam   \n",
       "\n",
       "  Managed By  Fulfill Via Vendor INCO Term Shipment Mode  ...  \\\n",
       "0   PMO - US  Direct Drop              EXW           Air  ...   \n",
       "1   PMO - US  Direct Drop              EXW           Air  ...   \n",
       "2   PMO - US  Direct Drop              FCA           Air  ...   \n",
       "3   PMO - US  Direct Drop              EXW           Air  ...   \n",
       "4   PMO - US  Direct Drop              EXW           Air  ...   \n",
       "\n",
       "  Unit of Measure (Per Pack) Line Item Quantity Line Item Value Pack Price  \\\n",
       "0                         30                 19           551.0      29.00   \n",
       "1                        240               1000          6200.0       6.20   \n",
       "2                        100                500         40000.0      80.00   \n",
       "3                         60              31920        127360.8       3.99   \n",
       "4                         60              38000        121600.0       3.20   \n",
       "\n",
       "  Unit Price             Manufacturing Site First Line Designation  \\\n",
       "0       0.97     Ranbaxy Fine Chemicals LTD                    Yes   \n",
       "1       0.03      Aurobindo Unit III, India                    Yes   \n",
       "2       0.80  ABBVIE GmbH & Co.KG Wiesbaden                    Yes   \n",
       "3       0.07  Ranbaxy, Paonta Shahib, India                    Yes   \n",
       "4       0.05      Aurobindo Unit III, India                    Yes   \n",
       "\n",
       "  Weight (Kilograms) Freight Cost (USD) Line Item Insurance (USD)  \n",
       "0                 13             780.34                       NaN  \n",
       "1                358             4521.5                       NaN  \n",
       "2                171            1653.78                       NaN  \n",
       "3               1855           16007.06                       NaN  \n",
       "4               7590           45450.08                       NaN  \n",
       "\n",
       "[5 rows x 33 columns]"
      ]
     },
     "execution_count": 3,
     "metadata": {},
     "output_type": "execute_result"
    }
   ],
   "source": [
    "df.head()"
   ]
  },
  {
   "cell_type": "code",
   "execution_count": 4,
   "id": "41d8a7d7-76fe-4e18-b0dd-3980c8178559",
   "metadata": {},
   "outputs": [
    {
     "data": {
      "text/plain": [
       "(10324, 33)"
      ]
     },
     "execution_count": 4,
     "metadata": {},
     "output_type": "execute_result"
    }
   ],
   "source": [
    "df.shape"
   ]
  },
  {
   "cell_type": "code",
   "execution_count": 5,
   "id": "f1c593e5-6b00-4206-a55f-94e043bdfa9a",
   "metadata": {},
   "outputs": [
    {
     "data": {
      "text/plain": [
       "Index(['ID', 'Project Code', 'PQ #', 'PO / SO #', 'ASN/DN #', 'Country',\n",
       "       'Managed By', 'Fulfill Via', 'Vendor INCO Term', 'Shipment Mode',\n",
       "       'PQ First Sent to Client Date', 'PO Sent to Vendor Date',\n",
       "       'Scheduled Delivery Date', 'Delivered to Client Date',\n",
       "       'Delivery Recorded Date', 'Product Group', 'Sub Classification',\n",
       "       'Vendor', 'Item Description', 'Molecule/Test Type', 'Brand', 'Dosage',\n",
       "       'Dosage Form', 'Unit of Measure (Per Pack)', 'Line Item Quantity',\n",
       "       'Line Item Value', 'Pack Price', 'Unit Price', 'Manufacturing Site',\n",
       "       'First Line Designation', 'Weight (Kilograms)', 'Freight Cost (USD)',\n",
       "       'Line Item Insurance (USD)'],\n",
       "      dtype='object')"
      ]
     },
     "execution_count": 5,
     "metadata": {},
     "output_type": "execute_result"
    }
   ],
   "source": [
    "df.columns"
   ]
  },
  {
   "cell_type": "code",
   "execution_count": 6,
   "id": "27e8a4f6-f126-44b9-b907-0f5cdbe36b5b",
   "metadata": {},
   "outputs": [
    {
     "name": "stdout",
     "output_type": "stream",
     "text": [
      "ID : 10324\n",
      "Project Code : 142\n",
      "PQ # : 1237\n",
      "PO / SO # : 6233\n",
      "ASN/DN # : 7030\n",
      "Country : 43\n",
      "Managed By : 4\n",
      "Fulfill Via : 2\n",
      "Vendor INCO Term : 8\n",
      "Shipment Mode : 4\n",
      "PQ First Sent to Client Date : 765\n",
      "PO Sent to Vendor Date : 897\n",
      "Scheduled Delivery Date : 2006\n",
      "Delivered to Client Date : 2093\n",
      "Delivery Recorded Date : 2042\n",
      "Product Group : 5\n",
      "Sub Classification : 6\n",
      "Vendor : 73\n",
      "Item Description : 184\n",
      "Molecule/Test Type : 86\n",
      "Brand : 48\n",
      "Dosage : 54\n",
      "Dosage Form : 17\n",
      "Unit of Measure (Per Pack) : 31\n",
      "Line Item Quantity : 5065\n",
      "Line Item Value : 8741\n",
      "Pack Price : 1175\n",
      "Unit Price : 183\n",
      "Manufacturing Site : 88\n",
      "First Line Designation : 2\n",
      "Weight (Kilograms) : 4688\n",
      "Freight Cost (USD) : 6733\n",
      "Line Item Insurance (USD) : 6722\n"
     ]
    }
   ],
   "source": [
    "for item in df.columns:\n",
    "    print(item,':',df[item].nunique())"
   ]
  },
  {
   "cell_type": "code",
   "execution_count": 7,
   "id": "d46a9a4c-5042-4112-91c0-39e4cd6d7ff8",
   "metadata": {},
   "outputs": [
    {
     "data": {
      "text/plain": [
       "Freight Included in Commodity Cost    0.139675\n",
       "Invoiced Separately                   0.023150\n",
       "9736.1                                0.003487\n",
       "6147.18                               0.002615\n",
       "13398.06                              0.001550\n",
       "                                        ...   \n",
       "749.36                                0.000097\n",
       "7060.97                               0.000097\n",
       "7616.19                               0.000097\n",
       "12793.7                               0.000097\n",
       "See DN-4282 (ID#:83919)               0.000097\n",
       "Name: Freight Cost (USD), Length: 6733, dtype: float64"
      ]
     },
     "execution_count": 7,
     "metadata": {},
     "output_type": "execute_result"
    }
   ],
   "source": [
    "'''\n",
    "2 types Fulfill Via - From RDC(52%) and Direct Drop(48%)\n",
    "INCO Terms - N/A for RDC, 7 Inco Terms used- mostly EXW(56%),DDP(29%),FCA(8%),CIP(5.5%)\n",
    "4 Shipment modes - Air (59%), Truck (27%), Air Charter (6%), Ocean (3%), Nan (3%)\n",
    "PQ First Sent Date - NA (24%)\n",
    "PO Sent to Vendor Date - NA for RDC + Not captured (55%)\n",
    "5 Product Group - ARV (83%), HRDT(17%), 3 negligible\n",
    "6 Sub Class - Adult (64%), Pediatric (19%), HIV test(15%), HIV-Ancillary (2%), Malaria and ACT negligible\n",
    "72 Non-RDC Vendors\n",
    "48 Brands\n",
    "17 Dosage Form\n",
    "5065 Line Item Quantity\n",
    "88 Manufacturing Sites\n",
    "First Line Designation - Yes (68%), No(32%)\n",
    "Weight - Not defined for 40% data\n",
    "Freight Cost - Not clear for 41% data\n",
    "Insurance NAN for 3%\n",
    "'''\n",
    "df['Freight Cost (USD)'].value_counts(normalize=True,dropna=False) #[df['Vendor INCO Term'] == 'N/A - From RDC']"
   ]
  },
  {
   "cell_type": "code",
   "execution_count": 8,
   "id": "331860dd-62d9-4146-8bf8-460f1ea24e2e",
   "metadata": {
    "tags": []
   },
   "outputs": [
    {
     "data": {
      "text/plain": [
       "ID                                 0\n",
       "Project Code                       0\n",
       "PQ #                               0\n",
       "PO / SO #                          0\n",
       "ASN/DN #                           0\n",
       "Country                            0\n",
       "Managed By                         0\n",
       "Fulfill Via                        0\n",
       "Vendor INCO Term                   0\n",
       "Shipment Mode                    360\n",
       "PQ First Sent to Client Date       0\n",
       "PO Sent to Vendor Date             0\n",
       "Scheduled Delivery Date            0\n",
       "Delivered to Client Date           0\n",
       "Delivery Recorded Date             0\n",
       "Product Group                      0\n",
       "Sub Classification                 0\n",
       "Vendor                             0\n",
       "Item Description                   0\n",
       "Molecule/Test Type                 0\n",
       "Brand                              0\n",
       "Dosage                          1736\n",
       "Dosage Form                        0\n",
       "Unit of Measure (Per Pack)         0\n",
       "Line Item Quantity                 0\n",
       "Line Item Value                    0\n",
       "Pack Price                         0\n",
       "Unit Price                         0\n",
       "Manufacturing Site                 0\n",
       "First Line Designation             0\n",
       "Weight (Kilograms)                 0\n",
       "Freight Cost (USD)                 0\n",
       "Line Item Insurance (USD)        287\n",
       "dtype: int64"
      ]
     },
     "execution_count": 8,
     "metadata": {},
     "output_type": "execute_result"
    }
   ],
   "source": [
    "df.isnull().sum()\n",
    "#360 rows do not have Shipment Mode which we aim to predict"
   ]
  },
  {
   "cell_type": "code",
   "execution_count": 9,
   "id": "54bbb8b9-a858-46c6-a795-527956f84688",
   "metadata": {},
   "outputs": [
    {
     "data": {
      "text/plain": [
       "Air            0.592115\n",
       "Truck          0.274119\n",
       "Air Charter    0.062960\n",
       "Ocean          0.035936\n",
       "NaN            0.034870\n",
       "Name: Shipment Mode, dtype: float64"
      ]
     },
     "execution_count": 9,
     "metadata": {},
     "output_type": "execute_result"
    }
   ],
   "source": [
    "df['Shipment Mode'].value_counts(normalize=True,dropna=False)"
   ]
  },
  {
   "cell_type": "code",
   "execution_count": 10,
   "id": "7e3d1a7d-1493-4155-8caf-45dc9e06f9c6",
   "metadata": {
    "tags": []
   },
   "outputs": [
    {
     "data": {
      "text/plain": [
       "South Africa          0.136188\n",
       "Nigeria               0.115653\n",
       "Côte d'Ivoire         0.104901\n",
       "Uganda                0.075455\n",
       "Vietnam               0.066641\n",
       "Zambia                0.066157\n",
       "Haiti                 0.063444\n",
       "Mozambique            0.061120\n",
       "Zimbabwe              0.052112\n",
       "Tanzania              0.050271\n",
       "Rwanda                0.041651\n",
       "Congo, DRC            0.032255\n",
       "Guyana                0.022956\n",
       "Ethiopia              0.020922\n",
       "South Sudan           0.015885\n",
       "Kenya                 0.010752\n",
       "Burundi               0.009492\n",
       "Namibia               0.009202\n",
       "Cameroon              0.007265\n",
       "Botswana              0.006780\n",
       "Ghana                 0.005618\n",
       "Dominican Republic    0.005037\n",
       "Sudan                 0.004456\n",
       "Swaziland             0.003390\n",
       "Mali                  0.001647\n",
       "Guatemala             0.001453\n",
       "Pakistan              0.001453\n",
       "Malawi                0.001356\n",
       "Benin                 0.001259\n",
       "Lebanon               0.000775\n",
       "Libya                 0.000775\n",
       "Angola                0.000678\n",
       "Liberia               0.000581\n",
       "Sierra Leone          0.000387\n",
       "Lesotho               0.000387\n",
       "Senegal               0.000291\n",
       "Togo                  0.000291\n",
       "Afghanistan           0.000291\n",
       "Kyrgyzstan            0.000194\n",
       "Kazakhstan            0.000194\n",
       "Burkina Faso          0.000194\n",
       "Guinea                0.000097\n",
       "Belize                0.000097\n",
       "Name: Country, dtype: float64"
      ]
     },
     "execution_count": 10,
     "metadata": {},
     "output_type": "execute_result"
    }
   ],
   "source": [
    "df['Country'].value_counts(normalize=True,dropna=False)"
   ]
  },
  {
   "cell_type": "code",
   "execution_count": 11,
   "id": "7c090eac-ddd1-496a-b160-6725ac6f421e",
   "metadata": {
    "tags": []
   },
   "outputs": [
    {
     "data": {
      "text/plain": [
       "ID                                int64\n",
       "Project Code                     object\n",
       "PQ #                             object\n",
       "PO / SO #                        object\n",
       "ASN/DN #                         object\n",
       "Country                          object\n",
       "Managed By                       object\n",
       "Fulfill Via                      object\n",
       "Vendor INCO Term                 object\n",
       "Shipment Mode                    object\n",
       "PQ First Sent to Client Date     object\n",
       "PO Sent to Vendor Date           object\n",
       "Scheduled Delivery Date          object\n",
       "Delivered to Client Date         object\n",
       "Delivery Recorded Date           object\n",
       "Product Group                    object\n",
       "Sub Classification               object\n",
       "Vendor                           object\n",
       "Item Description                 object\n",
       "Molecule/Test Type               object\n",
       "Brand                            object\n",
       "Dosage                           object\n",
       "Dosage Form                      object\n",
       "Unit of Measure (Per Pack)        int64\n",
       "Line Item Quantity                int64\n",
       "Line Item Value                 float64\n",
       "Pack Price                      float64\n",
       "Unit Price                      float64\n",
       "Manufacturing Site               object\n",
       "First Line Designation           object\n",
       "Weight (Kilograms)               object\n",
       "Freight Cost (USD)               object\n",
       "Line Item Insurance (USD)       float64\n",
       "dtype: object"
      ]
     },
     "execution_count": 11,
     "metadata": {},
     "output_type": "execute_result"
    }
   ],
   "source": [
    "df.dtypes"
   ]
  },
  {
   "cell_type": "code",
   "execution_count": 12,
   "id": "46945770-5966-42a3-963d-ab9ba02321d3",
   "metadata": {},
   "outputs": [],
   "source": [
    "#Convering dates into datetime format. For 'PQ First Sent to Client Date' ,'PO Sent to Vendor Date ' . Coerce the errors as some of the dates are not defined.\n",
    "dt = ['PQ First Sent to Client Date' ,'PO Sent to Vendor Date','Scheduled Delivery Date','Delivered to Client Date', 'Delivery Recorded Date']\n",
    "for col in dt:\n",
    "    df[col] = pd.to_datetime(df[col], errors = 'coerce')"
   ]
  },
  {
   "cell_type": "markdown",
   "id": "ff169591-d5e0-4e29-a7d6-bc26bc31df52",
   "metadata": {},
   "source": [
    "### Filling Nan Values\n",
    "1. Shipment Mode - Drop rows\n",
    "2. Dosage - Filling by mode\n",
    "3. Line Item Insurance - Mean Percentage of Line Item Insurance/Line Item Value\n",
    "4. PQ date - Reverse calculation by subtracting average days from Schedule Delivery to First Price Quotation\n",
    "5. PO Date - Reverse calculation by subtracting average days from Schedule Delivery to Purchase Order\n",
    "6. Weights - where ID is mentioned. Taken same as mentioned ID. Remaining filled with mean.\n",
    "7. Freight - 0 where included in Commodity Cost, where ID is mentioned. Taken same as mentioned ID. Remaining filled with mean."
   ]
  },
  {
   "cell_type": "code",
   "execution_count": 13,
   "id": "2f6127eb-f01c-4f10-a675-aff7002b6a34",
   "metadata": {},
   "outputs": [],
   "source": [
    "#  Create a copy of data\n",
    "df2 = df.copy()"
   ]
  },
  {
   "cell_type": "code",
   "execution_count": 14,
   "id": "40a04e0a-5657-47a4-a50a-57bf15cd1a02",
   "metadata": {},
   "outputs": [],
   "source": [
    "# Drop rows with no shipment mode\n",
    "missing_shipment = df[df['Shipment Mode'].isna()].index\n",
    "df = df.drop(missing_shipment, axis=0).reset_index(drop= True)"
   ]
  },
  {
   "cell_type": "code",
   "execution_count": 15,
   "id": "2dad7c07-ea41-4078-b29f-ec33a6181a33",
   "metadata": {},
   "outputs": [],
   "source": [
    "# Replace NAN with mode in Dosage column\n",
    "df['Dosage'] = df['Dosage'].fillna(df['Dosage'].mode()[0])"
   ]
  },
  {
   "cell_type": "code",
   "execution_count": 16,
   "id": "1526b334-1df5-4fab-a418-b30e3a66886f",
   "metadata": {},
   "outputs": [],
   "source": [
    "# Fill Insurance with percentage value of line item value\n",
    "perc = df['Line Item Insurance (USD)'].sum() / df['Line Item Value'][df['Line Item Insurance (USD)'] >= 0].sum()\n",
    "df['Line Item Insurance (USD)'] = df['Line Item Insurance (USD)'].fillna(round(df['Line Item Value']*perc, 2))"
   ]
  },
  {
   "cell_type": "code",
   "execution_count": 17,
   "id": "0ad263e2-d6c7-4a9e-8ace-a14c6779ff0f",
   "metadata": {},
   "outputs": [],
   "source": [
    "# Fill PO & PQ dates\n",
    "#Calculate Average days between Price Quote-->Purchase Order--> Scheduled Delivery\n",
    "pq_del_days = round((df['Scheduled Delivery Date'] - df['PQ First Sent to Client Date']).dt.days.mean(),0)\n",
    "pq_po_days = round((df['PO Sent to Vendor Date'] - df['PQ First Sent to Client Date']).dt.days.mean(),0)\n",
    "po_del_days = round((df['Scheduled Delivery Date'] - df['PO Sent to Vendor Date']).dt.days.mean(),0)"
   ]
  },
  {
   "cell_type": "code",
   "execution_count": 18,
   "id": "55ef3c74-9658-4380-bf54-89e6539f7064",
   "metadata": {},
   "outputs": [
    {
     "name": "stdout",
     "output_type": "stream",
     "text": [
      "172.0\n",
      "54.0\n",
      "106.0\n"
     ]
    }
   ],
   "source": [
    "print (pq_del_days)\n",
    "print (pq_po_days)\n",
    "print (po_del_days)"
   ]
  },
  {
   "cell_type": "code",
   "execution_count": 19,
   "id": "60589dd1-300f-4616-8e79-21f2a3888e12",
   "metadata": {},
   "outputs": [],
   "source": [
    "# Assigning estimated dates of Price Quotation and Purchase Order\n",
    "df['PQ First Sent to Client Date'] = df['PQ First Sent to Client Date'].fillna(df['Scheduled Delivery Date'] - timedelta(days=pq_del_days))\n",
    "df['PO Sent to Vendor Date'] = df['PO Sent to Vendor Date'].fillna(df['Scheduled Delivery Date'] - timedelta(days=po_del_days))"
   ]
  },
  {
   "cell_type": "code",
   "execution_count": 20,
   "id": "24c7d3a6-90d7-47f4-964c-9ef234a92e0d",
   "metadata": {},
   "outputs": [],
   "source": [
    "# Tackling Weight & Freight missing values\n",
    "df['Freight Cost (USD)'] = df['Freight Cost (USD)'].replace('Freight Included in Commodity Cost',0)"
   ]
  },
  {
   "cell_type": "code",
   "execution_count": 21,
   "id": "3f93f077-61ac-40b5-b7d7-604eca95fedd",
   "metadata": {},
   "outputs": [],
   "source": [
    "# Dictionaries with ID as keys and weight/freight as values\n",
    "id_weight = dict(zip(df['ID'],df['Weight (Kilograms)']))\n",
    "id_freight = dict(zip(df['ID'],df['Freight Cost (USD)']))"
   ]
  },
  {
   "cell_type": "code",
   "execution_count": 22,
   "id": "f4ad8658-c581-473d-a614-4e0b7b7bcae2",
   "metadata": {},
   "outputs": [],
   "source": [
    "# Functions to get weight and freight from corresponding ID numbers\n",
    "def get_weight(data):\n",
    "    data = pd.to_numeric(data, errors = 'ignore')\n",
    "    if type(data) == str:\n",
    "        try:\n",
    "            d = data.split(':')\n",
    "            e = d[1][:-1]\n",
    "            return id_weight.get(int(e))\n",
    "        except:\n",
    "            return (data)\n",
    "    else:\n",
    "        return (data)\n",
    "    \n",
    "def get_freight(data):\n",
    "    data = pd.to_numeric(data, errors = 'ignore')\n",
    "    if type(data) == str:\n",
    "        try:\n",
    "            d = data.split(':')\n",
    "            e = d[1][:-1]\n",
    "            return id_freight.get(int(e))\n",
    "        except:\n",
    "            return (data)\n",
    "    else:\n",
    "        return (data)"
   ]
  },
  {
   "cell_type": "code",
   "execution_count": 23,
   "id": "c0928f36-be74-4dcf-97fc-91438f7e9844",
   "metadata": {},
   "outputs": [],
   "source": [
    "df['Weight (Kilograms)'] = df['Weight (Kilograms)'].apply(get_weight)\n",
    "df['Freight Cost (USD)'] = df['Freight Cost (USD)'].apply(get_freight)"
   ]
  },
  {
   "cell_type": "code",
   "execution_count": 24,
   "id": "d8cfe69a-3d11-41b3-85f1-e029c29ab709",
   "metadata": {},
   "outputs": [],
   "source": [
    "df['Weight (Kilograms)'] = pd.to_numeric(df['Weight (Kilograms)'], errors = 'coerce')\n",
    "df['Freight Cost (USD)'] = pd.to_numeric(df['Freight Cost (USD)'], errors = 'coerce')"
   ]
  },
  {
   "cell_type": "code",
   "execution_count": 25,
   "id": "8a591239-1863-4f29-89dd-df5b82dd9a3b",
   "metadata": {},
   "outputs": [],
   "source": [
    "df['Weight (Kilograms)'] = df['Weight (Kilograms)'].fillna(df['Weight (Kilograms)'].mean())\n",
    "df['Freight Cost (USD)'] = df['Freight Cost (USD)'].fillna(df['Freight Cost (USD)'].mean())"
   ]
  },
  {
   "cell_type": "code",
   "execution_count": 26,
   "id": "93be8870-44ae-48a8-b38b-125d79888ffc",
   "metadata": {
    "tags": []
   },
   "outputs": [
    {
     "data": {
      "text/plain": [
       "ID                              0\n",
       "Project Code                    0\n",
       "PQ #                            0\n",
       "PO / SO #                       0\n",
       "ASN/DN #                        0\n",
       "Country                         0\n",
       "Managed By                      0\n",
       "Fulfill Via                     0\n",
       "Vendor INCO Term                0\n",
       "Shipment Mode                   0\n",
       "PQ First Sent to Client Date    0\n",
       "PO Sent to Vendor Date          0\n",
       "Scheduled Delivery Date         0\n",
       "Delivered to Client Date        0\n",
       "Delivery Recorded Date          0\n",
       "Product Group                   0\n",
       "Sub Classification              0\n",
       "Vendor                          0\n",
       "Item Description                0\n",
       "Molecule/Test Type              0\n",
       "Brand                           0\n",
       "Dosage                          0\n",
       "Dosage Form                     0\n",
       "Unit of Measure (Per Pack)      0\n",
       "Line Item Quantity              0\n",
       "Line Item Value                 0\n",
       "Pack Price                      0\n",
       "Unit Price                      0\n",
       "Manufacturing Site              0\n",
       "First Line Designation          0\n",
       "Weight (Kilograms)              0\n",
       "Freight Cost (USD)              0\n",
       "Line Item Insurance (USD)       0\n",
       "dtype: int64"
      ]
     },
     "execution_count": 26,
     "metadata": {},
     "output_type": "execute_result"
    }
   ],
   "source": [
    "df.isnull().sum()"
   ]
  },
  {
   "cell_type": "code",
   "execution_count": 27,
   "id": "6e8ed1e5-e4eb-483f-aefa-93dd89afe75e",
   "metadata": {
    "tags": []
   },
   "outputs": [],
   "source": [
    "df.to_csv('stage1_process.csv', index = False)"
   ]
  },
  {
   "cell_type": "code",
   "execution_count": 28,
   "id": "a22eedc7-91fe-45ec-a4ba-055a39ac834f",
   "metadata": {},
   "outputs": [],
   "source": [
    "#df = pd.read_csv('stage1_process.csv')"
   ]
  },
  {
   "cell_type": "code",
   "execution_count": 29,
   "id": "4eaf7434-359d-4d57-9a23-8761211c4845",
   "metadata": {},
   "outputs": [
    {
     "name": "stdout",
     "output_type": "stream",
     "text": [
      "<class 'pandas.core.frame.DataFrame'>\n",
      "RangeIndex: 9964 entries, 0 to 9963\n",
      "Data columns (total 33 columns):\n",
      " #   Column                        Non-Null Count  Dtype         \n",
      "---  ------                        --------------  -----         \n",
      " 0   ID                            9964 non-null   int64         \n",
      " 1   Project Code                  9964 non-null   object        \n",
      " 2   PQ #                          9964 non-null   object        \n",
      " 3   PO / SO #                     9964 non-null   object        \n",
      " 4   ASN/DN #                      9964 non-null   object        \n",
      " 5   Country                       9964 non-null   object        \n",
      " 6   Managed By                    9964 non-null   object        \n",
      " 7   Fulfill Via                   9964 non-null   object        \n",
      " 8   Vendor INCO Term              9964 non-null   object        \n",
      " 9   Shipment Mode                 9964 non-null   object        \n",
      " 10  PQ First Sent to Client Date  9964 non-null   datetime64[ns]\n",
      " 11  PO Sent to Vendor Date        9964 non-null   datetime64[ns]\n",
      " 12  Scheduled Delivery Date       9964 non-null   datetime64[ns]\n",
      " 13  Delivered to Client Date      9964 non-null   datetime64[ns]\n",
      " 14  Delivery Recorded Date        9964 non-null   datetime64[ns]\n",
      " 15  Product Group                 9964 non-null   object        \n",
      " 16  Sub Classification            9964 non-null   object        \n",
      " 17  Vendor                        9964 non-null   object        \n",
      " 18  Item Description              9964 non-null   object        \n",
      " 19  Molecule/Test Type            9964 non-null   object        \n",
      " 20  Brand                         9964 non-null   object        \n",
      " 21  Dosage                        9964 non-null   object        \n",
      " 22  Dosage Form                   9964 non-null   object        \n",
      " 23  Unit of Measure (Per Pack)    9964 non-null   int64         \n",
      " 24  Line Item Quantity            9964 non-null   int64         \n",
      " 25  Line Item Value               9964 non-null   float64       \n",
      " 26  Pack Price                    9964 non-null   float64       \n",
      " 27  Unit Price                    9964 non-null   float64       \n",
      " 28  Manufacturing Site            9964 non-null   object        \n",
      " 29  First Line Designation        9964 non-null   object        \n",
      " 30  Weight (Kilograms)            9964 non-null   float64       \n",
      " 31  Freight Cost (USD)            9964 non-null   float64       \n",
      " 32  Line Item Insurance (USD)     9964 non-null   float64       \n",
      "dtypes: datetime64[ns](5), float64(6), int64(3), object(19)\n",
      "memory usage: 2.5+ MB\n"
     ]
    }
   ],
   "source": [
    "df.info()"
   ]
  },
  {
   "cell_type": "code",
   "execution_count": 30,
   "id": "7611a645-e7bb-4a8f-a893-95e9e428d0a9",
   "metadata": {},
   "outputs": [],
   "source": [
    "date_columns = ['PQ First Sent to Client Date' ,'PO Sent to Vendor Date','Scheduled Delivery Date','Delivered to Client Date']\n",
    "for col in date_columns:\n",
    "    df[col] = pd.to_datetime(df[col], errors = 'raise')"
   ]
  },
  {
   "cell_type": "code",
   "execution_count": 31,
   "id": "0a46bebc-d053-4356-a128-785c97a55fc9",
   "metadata": {},
   "outputs": [],
   "source": [
    "# Creating feature for number of days delay in delivery\n",
    "df['Delay'] = round((df['Delivered to Client Date'] - df['Scheduled Delivery Date']).dt.days,0)"
   ]
  },
  {
   "cell_type": "code",
   "execution_count": 32,
   "id": "35600143-7edd-44aa-9d58-88e474d8d976",
   "metadata": {},
   "outputs": [],
   "source": [
    "# Creating feature for Total Cost of Shipment\n",
    "df['Total Cost'] = df['Line Item Value'] + df['Freight Cost (USD)'] + df['Line Item Insurance (USD)']"
   ]
  },
  {
   "cell_type": "code",
   "execution_count": 33,
   "id": "d4f7327d-0d08-4aba-88de-6c576ba18683",
   "metadata": {},
   "outputs": [],
   "source": [
    "# Creating separate columns for date month and year\n",
    "date_columns = ['PQ First Sent to Client Date' ,'PO Sent to Vendor Date','Scheduled Delivery Date','Delivered to Client Date']\n",
    "for column in date_columns:\n",
    "    df[column] = pd.to_datetime(df[column])\n",
    "    df[column + ' year'] = df[column].apply(lambda x: x.year)\n",
    "    df[column + ' month'] = df[column].apply(lambda x: x.month)\n",
    "    df[column + ' day'] = df[column].apply(lambda x: x.day)"
   ]
  },
  {
   "cell_type": "code",
   "execution_count": 34,
   "id": "6bc710ea-e3f5-493a-a47d-867d56f0943a",
   "metadata": {},
   "outputs": [
    {
     "data": {
      "text/plain": [
       "Index(['ID', 'Project Code', 'PQ #', 'PO / SO #', 'ASN/DN #', 'Country',\n",
       "       'Managed By', 'Fulfill Via', 'Vendor INCO Term', 'Shipment Mode',\n",
       "       'PQ First Sent to Client Date', 'PO Sent to Vendor Date',\n",
       "       'Scheduled Delivery Date', 'Delivered to Client Date',\n",
       "       'Delivery Recorded Date', 'Product Group', 'Sub Classification',\n",
       "       'Vendor', 'Item Description', 'Molecule/Test Type', 'Brand', 'Dosage',\n",
       "       'Dosage Form', 'Unit of Measure (Per Pack)', 'Line Item Quantity',\n",
       "       'Line Item Value', 'Pack Price', 'Unit Price', 'Manufacturing Site',\n",
       "       'First Line Designation', 'Weight (Kilograms)', 'Freight Cost (USD)',\n",
       "       'Line Item Insurance (USD)', 'Delay', 'Total Cost',\n",
       "       'PQ First Sent to Client Date year',\n",
       "       'PQ First Sent to Client Date month',\n",
       "       'PQ First Sent to Client Date day', 'PO Sent to Vendor Date year',\n",
       "       'PO Sent to Vendor Date month', 'PO Sent to Vendor Date day',\n",
       "       'Scheduled Delivery Date year', 'Scheduled Delivery Date month',\n",
       "       'Scheduled Delivery Date day', 'Delivered to Client Date year',\n",
       "       'Delivered to Client Date month', 'Delivered to Client Date day'],\n",
       "      dtype='object')"
      ]
     },
     "execution_count": 34,
     "metadata": {},
     "output_type": "execute_result"
    }
   ],
   "source": [
    "df.columns"
   ]
  },
  {
   "cell_type": "code",
   "execution_count": 35,
   "id": "e806da1c-26e0-4f6c-9348-4cb35e55c05b",
   "metadata": {},
   "outputs": [],
   "source": [
    "# Dropping columns which won't add value or would make the data unmanageable\n",
    "df = df.drop(['ID', 'PQ #','PO / SO #','ASN/DN #', 'Managed By','PQ First Sent to Client Date', 'PO Sent to Vendor Date',\n",
    "       'Scheduled Delivery Date', 'Delivered to Client Date',\n",
    "       'Delivery Recorded Date','Item Description', 'Molecule/Test Type',], axis = 1)"
   ]
  },
  {
   "cell_type": "code",
   "execution_count": 36,
   "id": "28c31f1b-78f2-4aca-a76f-09f9aa2d0466",
   "metadata": {},
   "outputs": [],
   "source": [
    "# Renaming Columns\n",
    "df.columns = ['proj_code','country', 'via',\n",
    "       'inco', 'ship_mode', 'prod_grp',\n",
    "       'sub_class', 'vendor', 'brand', 'dosage', 'dosage_form',\n",
    "       'per_pack_qty', 'line_qty', 'line_value',\n",
    "       'pack_price', 'unit_price', 'manu_site',\n",
    "       'first_line', 'weight', 'freight',\n",
    "       'insurance', 'delay', 'total_cost',\n",
    "       'quote_year',\n",
    "       'quote_month',\n",
    "       'quote_day', 'po_year',\n",
    "       'po_month', 'po_day',\n",
    "       'sch_del_year', 'sch_del_month',\n",
    "       'sch_del_day', 'actual_del_year',\n",
    "       'actual_del_month', 'actual_del_day']"
   ]
  },
  {
   "cell_type": "code",
   "execution_count": 37,
   "id": "03815880-8c8a-467b-b8b1-4cd4d3e9e03f",
   "metadata": {},
   "outputs": [
    {
     "data": {
      "text/html": [
       "<div>\n",
       "<style scoped>\n",
       "    .dataframe tbody tr th:only-of-type {\n",
       "        vertical-align: middle;\n",
       "    }\n",
       "\n",
       "    .dataframe tbody tr th {\n",
       "        vertical-align: top;\n",
       "    }\n",
       "\n",
       "    .dataframe thead th {\n",
       "        text-align: right;\n",
       "    }\n",
       "</style>\n",
       "<table border=\"1\" class=\"dataframe\">\n",
       "  <thead>\n",
       "    <tr style=\"text-align: right;\">\n",
       "      <th></th>\n",
       "      <th>per_pack_qty</th>\n",
       "      <th>line_qty</th>\n",
       "      <th>line_value</th>\n",
       "      <th>pack_price</th>\n",
       "      <th>unit_price</th>\n",
       "      <th>weight</th>\n",
       "      <th>freight</th>\n",
       "      <th>insurance</th>\n",
       "      <th>delay</th>\n",
       "      <th>total_cost</th>\n",
       "      <th>...</th>\n",
       "      <th>quote_day</th>\n",
       "      <th>po_year</th>\n",
       "      <th>po_month</th>\n",
       "      <th>po_day</th>\n",
       "      <th>sch_del_year</th>\n",
       "      <th>sch_del_month</th>\n",
       "      <th>sch_del_day</th>\n",
       "      <th>actual_del_year</th>\n",
       "      <th>actual_del_month</th>\n",
       "      <th>actual_del_day</th>\n",
       "    </tr>\n",
       "  </thead>\n",
       "  <tbody>\n",
       "    <tr>\n",
       "      <th>count</th>\n",
       "      <td>9964.000000</td>\n",
       "      <td>9964.000000</td>\n",
       "      <td>9.964000e+03</td>\n",
       "      <td>9964.000000</td>\n",
       "      <td>9964.000000</td>\n",
       "      <td>9964.000000</td>\n",
       "      <td>9964.000000</td>\n",
       "      <td>9964.000000</td>\n",
       "      <td>9964.000000</td>\n",
       "      <td>9.964000e+03</td>\n",
       "      <td>...</td>\n",
       "      <td>9964.000000</td>\n",
       "      <td>9964.000000</td>\n",
       "      <td>9964.000000</td>\n",
       "      <td>9964.000000</td>\n",
       "      <td>9964.000000</td>\n",
       "      <td>9964.000000</td>\n",
       "      <td>9964.000000</td>\n",
       "      <td>9964.000000</td>\n",
       "      <td>9964.000000</td>\n",
       "      <td>9964.000000</td>\n",
       "    </tr>\n",
       "    <tr>\n",
       "      <th>mean</th>\n",
       "      <td>77.425733</td>\n",
       "      <td>18612.925632</td>\n",
       "      <td>1.592953e+05</td>\n",
       "      <td>21.734272</td>\n",
       "      <td>0.590277</td>\n",
       "      <td>4516.521007</td>\n",
       "      <td>10900.582315</td>\n",
       "      <td>239.313809</td>\n",
       "      <td>-6.150442</td>\n",
       "      <td>1.704352e+05</td>\n",
       "      <td>...</td>\n",
       "      <td>15.566038</td>\n",
       "      <td>2011.115717</td>\n",
       "      <td>6.512746</td>\n",
       "      <td>15.590325</td>\n",
       "      <td>2011.402047</td>\n",
       "      <td>6.493878</td>\n",
       "      <td>17.774488</td>\n",
       "      <td>2011.391008</td>\n",
       "      <td>6.477318</td>\n",
       "      <td>16.143818</td>\n",
       "    </tr>\n",
       "    <tr>\n",
       "      <th>std</th>\n",
       "      <td>76.393988</td>\n",
       "      <td>40572.830601</td>\n",
       "      <td>3.493419e+05</td>\n",
       "      <td>45.710003</td>\n",
       "      <td>2.292690</td>\n",
       "      <td>12434.759618</td>\n",
       "      <td>17130.299639</td>\n",
       "      <td>500.186015</td>\n",
       "      <td>27.396541</td>\n",
       "      <td>3.565207e+05</td>\n",
       "      <td>...</td>\n",
       "      <td>8.687185</td>\n",
       "      <td>2.390670</td>\n",
       "      <td>3.477655</td>\n",
       "      <td>8.613145</td>\n",
       "      <td>2.402686</td>\n",
       "      <td>3.288049</td>\n",
       "      <td>9.404055</td>\n",
       "      <td>2.411718</td>\n",
       "      <td>3.326912</td>\n",
       "      <td>8.794376</td>\n",
       "    </tr>\n",
       "    <tr>\n",
       "      <th>min</th>\n",
       "      <td>1.000000</td>\n",
       "      <td>1.000000</td>\n",
       "      <td>0.000000e+00</td>\n",
       "      <td>0.000000</td>\n",
       "      <td>0.000000</td>\n",
       "      <td>0.000000</td>\n",
       "      <td>0.000000</td>\n",
       "      <td>0.000000</td>\n",
       "      <td>-372.000000</td>\n",
       "      <td>2.500000e+00</td>\n",
       "      <td>...</td>\n",
       "      <td>1.000000</td>\n",
       "      <td>2006.000000</td>\n",
       "      <td>1.000000</td>\n",
       "      <td>1.000000</td>\n",
       "      <td>2006.000000</td>\n",
       "      <td>1.000000</td>\n",
       "      <td>1.000000</td>\n",
       "      <td>2006.000000</td>\n",
       "      <td>1.000000</td>\n",
       "      <td>1.000000</td>\n",
       "    </tr>\n",
       "    <tr>\n",
       "      <th>25%</th>\n",
       "      <td>30.000000</td>\n",
       "      <td>405.000000</td>\n",
       "      <td>4.272032e+03</td>\n",
       "      <td>4.120000</td>\n",
       "      <td>0.080000</td>\n",
       "      <td>404.000000</td>\n",
       "      <td>1374.732500</td>\n",
       "      <td>6.530000</td>\n",
       "      <td>-4.000000</td>\n",
       "      <td>9.522917e+03</td>\n",
       "      <td>...</td>\n",
       "      <td>8.000000</td>\n",
       "      <td>2009.000000</td>\n",
       "      <td>3.000000</td>\n",
       "      <td>9.000000</td>\n",
       "      <td>2009.000000</td>\n",
       "      <td>4.000000</td>\n",
       "      <td>10.000000</td>\n",
       "      <td>2009.000000</td>\n",
       "      <td>4.000000</td>\n",
       "      <td>9.000000</td>\n",
       "    </tr>\n",
       "    <tr>\n",
       "      <th>50%</th>\n",
       "      <td>60.000000</td>\n",
       "      <td>3035.000000</td>\n",
       "      <td>3.042884e+04</td>\n",
       "      <td>8.970000</td>\n",
       "      <td>0.160000</td>\n",
       "      <td>2156.000000</td>\n",
       "      <td>5530.110000</td>\n",
       "      <td>46.960000</td>\n",
       "      <td>0.000000</td>\n",
       "      <td>4.034555e+04</td>\n",
       "      <td>...</td>\n",
       "      <td>15.000000</td>\n",
       "      <td>2011.000000</td>\n",
       "      <td>7.000000</td>\n",
       "      <td>16.000000</td>\n",
       "      <td>2012.000000</td>\n",
       "      <td>7.000000</td>\n",
       "      <td>18.000000</td>\n",
       "      <td>2012.000000</td>\n",
       "      <td>6.000000</td>\n",
       "      <td>16.000000</td>\n",
       "    </tr>\n",
       "    <tr>\n",
       "      <th>75%</th>\n",
       "      <td>90.000000</td>\n",
       "      <td>17441.750000</td>\n",
       "      <td>1.686673e+05</td>\n",
       "      <td>23.260000</td>\n",
       "      <td>0.460000</td>\n",
       "      <td>4516.521007</td>\n",
       "      <td>13290.310000</td>\n",
       "      <td>251.730000</td>\n",
       "      <td>0.000000</td>\n",
       "      <td>1.837360e+05</td>\n",
       "      <td>...</td>\n",
       "      <td>23.000000</td>\n",
       "      <td>2013.000000</td>\n",
       "      <td>10.000000</td>\n",
       "      <td>22.000000</td>\n",
       "      <td>2014.000000</td>\n",
       "      <td>9.000000</td>\n",
       "      <td>27.000000</td>\n",
       "      <td>2014.000000</td>\n",
       "      <td>9.000000</td>\n",
       "      <td>24.000000</td>\n",
       "    </tr>\n",
       "    <tr>\n",
       "      <th>max</th>\n",
       "      <td>1000.000000</td>\n",
       "      <td>619999.000000</td>\n",
       "      <td>5.951990e+06</td>\n",
       "      <td>1345.640000</td>\n",
       "      <td>41.680000</td>\n",
       "      <td>857354.000000</td>\n",
       "      <td>289653.200000</td>\n",
       "      <td>7708.440000</td>\n",
       "      <td>192.000000</td>\n",
       "      <td>6.027871e+06</td>\n",
       "      <td>...</td>\n",
       "      <td>31.000000</td>\n",
       "      <td>2015.000000</td>\n",
       "      <td>12.000000</td>\n",
       "      <td>31.000000</td>\n",
       "      <td>2015.000000</td>\n",
       "      <td>12.000000</td>\n",
       "      <td>31.000000</td>\n",
       "      <td>2015.000000</td>\n",
       "      <td>12.000000</td>\n",
       "      <td>31.000000</td>\n",
       "    </tr>\n",
       "  </tbody>\n",
       "</table>\n",
       "<p>8 rows × 22 columns</p>\n",
       "</div>"
      ],
      "text/plain": [
       "       per_pack_qty       line_qty    line_value   pack_price   unit_price  \\\n",
       "count   9964.000000    9964.000000  9.964000e+03  9964.000000  9964.000000   \n",
       "mean      77.425733   18612.925632  1.592953e+05    21.734272     0.590277   \n",
       "std       76.393988   40572.830601  3.493419e+05    45.710003     2.292690   \n",
       "min        1.000000       1.000000  0.000000e+00     0.000000     0.000000   \n",
       "25%       30.000000     405.000000  4.272032e+03     4.120000     0.080000   \n",
       "50%       60.000000    3035.000000  3.042884e+04     8.970000     0.160000   \n",
       "75%       90.000000   17441.750000  1.686673e+05    23.260000     0.460000   \n",
       "max     1000.000000  619999.000000  5.951990e+06  1345.640000    41.680000   \n",
       "\n",
       "              weight        freight    insurance        delay    total_cost  \\\n",
       "count    9964.000000    9964.000000  9964.000000  9964.000000  9.964000e+03   \n",
       "mean     4516.521007   10900.582315   239.313809    -6.150442  1.704352e+05   \n",
       "std     12434.759618   17130.299639   500.186015    27.396541  3.565207e+05   \n",
       "min         0.000000       0.000000     0.000000  -372.000000  2.500000e+00   \n",
       "25%       404.000000    1374.732500     6.530000    -4.000000  9.522917e+03   \n",
       "50%      2156.000000    5530.110000    46.960000     0.000000  4.034555e+04   \n",
       "75%      4516.521007   13290.310000   251.730000     0.000000  1.837360e+05   \n",
       "max    857354.000000  289653.200000  7708.440000   192.000000  6.027871e+06   \n",
       "\n",
       "       ...    quote_day      po_year     po_month       po_day  sch_del_year  \\\n",
       "count  ...  9964.000000  9964.000000  9964.000000  9964.000000   9964.000000   \n",
       "mean   ...    15.566038  2011.115717     6.512746    15.590325   2011.402047   \n",
       "std    ...     8.687185     2.390670     3.477655     8.613145      2.402686   \n",
       "min    ...     1.000000  2006.000000     1.000000     1.000000   2006.000000   \n",
       "25%    ...     8.000000  2009.000000     3.000000     9.000000   2009.000000   \n",
       "50%    ...    15.000000  2011.000000     7.000000    16.000000   2012.000000   \n",
       "75%    ...    23.000000  2013.000000    10.000000    22.000000   2014.000000   \n",
       "max    ...    31.000000  2015.000000    12.000000    31.000000   2015.000000   \n",
       "\n",
       "       sch_del_month  sch_del_day  actual_del_year  actual_del_month  \\\n",
       "count    9964.000000  9964.000000      9964.000000       9964.000000   \n",
       "mean        6.493878    17.774488      2011.391008          6.477318   \n",
       "std         3.288049     9.404055         2.411718          3.326912   \n",
       "min         1.000000     1.000000      2006.000000          1.000000   \n",
       "25%         4.000000    10.000000      2009.000000          4.000000   \n",
       "50%         7.000000    18.000000      2012.000000          6.000000   \n",
       "75%         9.000000    27.000000      2014.000000          9.000000   \n",
       "max        12.000000    31.000000      2015.000000         12.000000   \n",
       "\n",
       "       actual_del_day  \n",
       "count     9964.000000  \n",
       "mean        16.143818  \n",
       "std          8.794376  \n",
       "min          1.000000  \n",
       "25%          9.000000  \n",
       "50%         16.000000  \n",
       "75%         24.000000  \n",
       "max         31.000000  \n",
       "\n",
       "[8 rows x 22 columns]"
      ]
     },
     "execution_count": 37,
     "metadata": {},
     "output_type": "execute_result"
    }
   ],
   "source": [
    "df.describe()"
   ]
  },
  {
   "cell_type": "code",
   "execution_count": 38,
   "id": "82d3e958-1614-4048-9a45-c65d99308c07",
   "metadata": {},
   "outputs": [],
   "source": [
    "df.to_csv('pre_encoding_data.csv', index = False)"
   ]
  },
  {
   "cell_type": "code",
   "execution_count": null,
   "id": "ad38afcf-9ed5-4049-8ffd-bc60f5b821ef",
   "metadata": {},
   "outputs": [],
   "source": []
  }
 ],
 "metadata": {
  "kernelspec": {
   "display_name": "Python 3 (ipykernel)",
   "language": "python",
   "name": "python3"
  },
  "language_info": {
   "codemirror_mode": {
    "name": "ipython",
    "version": 3
   },
   "file_extension": ".py",
   "mimetype": "text/x-python",
   "name": "python",
   "nbconvert_exporter": "python",
   "pygments_lexer": "ipython3",
   "version": "3.8.11"
  }
 },
 "nbformat": 4,
 "nbformat_minor": 5
}
