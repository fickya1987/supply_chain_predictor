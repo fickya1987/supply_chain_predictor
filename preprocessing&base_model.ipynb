{
 "cells": [
  {
   "cell_type": "code",
   "execution_count": 1,
   "id": "96ff1d40-9a79-4187-87eb-427199c2dcf9",
   "metadata": {},
   "outputs": [],
   "source": [
    "import pandas as pd\n",
    "from sklearn.preprocessing import LabelEncoder\n",
    "from sklearn.preprocessing import StandardScaler\n",
    "import tensorflow as tf\n",
    "import numpy as np\n",
    "from sklearn.metrics import confusion_matrix, classification_report\n",
    "import matplotlib.pyplot as plt\n",
    "import seaborn as sns"
   ]
  },
  {
   "cell_type": "code",
   "execution_count": 2,
   "id": "5b6482a9-c1b7-4c0f-b8ec-1a157e359bf4",
   "metadata": {},
   "outputs": [],
   "source": [
    "df = pd.read_csv('pre_encoding_data.csv')"
   ]
  },
  {
   "cell_type": "code",
   "execution_count": 3,
   "id": "85e8688a-f62e-4c70-9fba-9e42ddef8cae",
   "metadata": {
    "tags": []
   },
   "outputs": [],
   "source": [
    "# Segregating categorical and numerical features\n",
    "\n",
    "cat_feats = df.dtypes[df.dtypes == 'object'].index.tolist()\n",
    "num_feats = df.dtypes[~df.dtypes.index.isin(cat_feats)].index.tolist()\n",
    "\n",
    "#Convert cat_feats to categorical\n",
    "for col in cat_feats:\n",
    "    df[col] = df[col].astype('category')\n",
    "\n",
    "# Removing Shipment Mode from cat_feats as it is the dependant variable\n",
    "cat_feats.remove('ship_mode')"
   ]
  },
  {
   "cell_type": "code",
   "execution_count": 4,
   "id": "a48522b2-086c-44d8-998f-872dc1ca26e9",
   "metadata": {},
   "outputs": [],
   "source": [
    "# Creating dummies for categorical features\n",
    "for column in cat_feats:\n",
    "    dummies = pd.get_dummies(df[column], prefix = column)\n",
    "    df = pd.concat([df,dummies], axis =1)\n",
    "    df = df.drop(column, axis =1)"
   ]
  },
  {
   "cell_type": "code",
   "execution_count": 5,
   "id": "d60c0f31-6d50-4788-8bbc-8ef088eefa49",
   "metadata": {},
   "outputs": [
    {
     "data": {
      "text/html": [
       "<div>\n",
       "<style scoped>\n",
       "    .dataframe tbody tr th:only-of-type {\n",
       "        vertical-align: middle;\n",
       "    }\n",
       "\n",
       "    .dataframe tbody tr th {\n",
       "        vertical-align: top;\n",
       "    }\n",
       "\n",
       "    .dataframe thead th {\n",
       "        text-align: right;\n",
       "    }\n",
       "</style>\n",
       "<table border=\"1\" class=\"dataframe\">\n",
       "  <thead>\n",
       "    <tr style=\"text-align: right;\">\n",
       "      <th></th>\n",
       "      <th>ship_mode</th>\n",
       "      <th>per_pack_qty</th>\n",
       "      <th>line_qty</th>\n",
       "      <th>line_value</th>\n",
       "      <th>pack_price</th>\n",
       "      <th>unit_price</th>\n",
       "      <th>weight</th>\n",
       "      <th>freight</th>\n",
       "      <th>insurance</th>\n",
       "      <th>delay</th>\n",
       "      <th>...</th>\n",
       "      <th>manu_site_Remedica, Limassol, Cyprus</th>\n",
       "      <th>manu_site_Roche Basel</th>\n",
       "      <th>manu_site_Roche Madrid</th>\n",
       "      <th>manu_site_Standard Diagnostics, Korea</th>\n",
       "      <th>manu_site_Strides, Bangalore, India.</th>\n",
       "      <th>manu_site_Trinity Biotech, Plc</th>\n",
       "      <th>manu_site_Weifa A.S., Hausmanngt. 6, P.O. Box 9113 GrÃ¸nland, 0133, Oslo, Norway</th>\n",
       "      <th>manu_site_bioLytical Laboratories</th>\n",
       "      <th>first_line_No</th>\n",
       "      <th>first_line_Yes</th>\n",
       "    </tr>\n",
       "  </thead>\n",
       "  <tbody>\n",
       "    <tr>\n",
       "      <th>0</th>\n",
       "      <td>Air</td>\n",
       "      <td>30</td>\n",
       "      <td>19</td>\n",
       "      <td>551.00</td>\n",
       "      <td>29.00</td>\n",
       "      <td>0.97</td>\n",
       "      <td>13.000000</td>\n",
       "      <td>780.34</td>\n",
       "      <td>0.83</td>\n",
       "      <td>0</td>\n",
       "      <td>...</td>\n",
       "      <td>0</td>\n",
       "      <td>0</td>\n",
       "      <td>0</td>\n",
       "      <td>0</td>\n",
       "      <td>0</td>\n",
       "      <td>0</td>\n",
       "      <td>0</td>\n",
       "      <td>0</td>\n",
       "      <td>0</td>\n",
       "      <td>1</td>\n",
       "    </tr>\n",
       "    <tr>\n",
       "      <th>1</th>\n",
       "      <td>Air</td>\n",
       "      <td>240</td>\n",
       "      <td>1000</td>\n",
       "      <td>6200.00</td>\n",
       "      <td>6.20</td>\n",
       "      <td>0.03</td>\n",
       "      <td>358.000000</td>\n",
       "      <td>4521.50</td>\n",
       "      <td>9.31</td>\n",
       "      <td>0</td>\n",
       "      <td>...</td>\n",
       "      <td>0</td>\n",
       "      <td>0</td>\n",
       "      <td>0</td>\n",
       "      <td>0</td>\n",
       "      <td>0</td>\n",
       "      <td>0</td>\n",
       "      <td>0</td>\n",
       "      <td>0</td>\n",
       "      <td>0</td>\n",
       "      <td>1</td>\n",
       "    </tr>\n",
       "    <tr>\n",
       "      <th>2</th>\n",
       "      <td>Air</td>\n",
       "      <td>100</td>\n",
       "      <td>500</td>\n",
       "      <td>40000.00</td>\n",
       "      <td>80.00</td>\n",
       "      <td>0.80</td>\n",
       "      <td>171.000000</td>\n",
       "      <td>1653.78</td>\n",
       "      <td>60.09</td>\n",
       "      <td>0</td>\n",
       "      <td>...</td>\n",
       "      <td>0</td>\n",
       "      <td>0</td>\n",
       "      <td>0</td>\n",
       "      <td>0</td>\n",
       "      <td>0</td>\n",
       "      <td>0</td>\n",
       "      <td>0</td>\n",
       "      <td>0</td>\n",
       "      <td>0</td>\n",
       "      <td>1</td>\n",
       "    </tr>\n",
       "    <tr>\n",
       "      <th>3</th>\n",
       "      <td>Air</td>\n",
       "      <td>60</td>\n",
       "      <td>31920</td>\n",
       "      <td>127360.80</td>\n",
       "      <td>3.99</td>\n",
       "      <td>0.07</td>\n",
       "      <td>1855.000000</td>\n",
       "      <td>16007.06</td>\n",
       "      <td>191.34</td>\n",
       "      <td>0</td>\n",
       "      <td>...</td>\n",
       "      <td>0</td>\n",
       "      <td>0</td>\n",
       "      <td>0</td>\n",
       "      <td>0</td>\n",
       "      <td>0</td>\n",
       "      <td>0</td>\n",
       "      <td>0</td>\n",
       "      <td>0</td>\n",
       "      <td>0</td>\n",
       "      <td>1</td>\n",
       "    </tr>\n",
       "    <tr>\n",
       "      <th>4</th>\n",
       "      <td>Air</td>\n",
       "      <td>60</td>\n",
       "      <td>38000</td>\n",
       "      <td>121600.00</td>\n",
       "      <td>3.20</td>\n",
       "      <td>0.05</td>\n",
       "      <td>7590.000000</td>\n",
       "      <td>45450.08</td>\n",
       "      <td>182.68</td>\n",
       "      <td>0</td>\n",
       "      <td>...</td>\n",
       "      <td>0</td>\n",
       "      <td>0</td>\n",
       "      <td>0</td>\n",
       "      <td>0</td>\n",
       "      <td>0</td>\n",
       "      <td>0</td>\n",
       "      <td>0</td>\n",
       "      <td>0</td>\n",
       "      <td>0</td>\n",
       "      <td>1</td>\n",
       "    </tr>\n",
       "    <tr>\n",
       "      <th>...</th>\n",
       "      <td>...</td>\n",
       "      <td>...</td>\n",
       "      <td>...</td>\n",
       "      <td>...</td>\n",
       "      <td>...</td>\n",
       "      <td>...</td>\n",
       "      <td>...</td>\n",
       "      <td>...</td>\n",
       "      <td>...</td>\n",
       "      <td>...</td>\n",
       "      <td>...</td>\n",
       "      <td>...</td>\n",
       "      <td>...</td>\n",
       "      <td>...</td>\n",
       "      <td>...</td>\n",
       "      <td>...</td>\n",
       "      <td>...</td>\n",
       "      <td>...</td>\n",
       "      <td>...</td>\n",
       "      <td>...</td>\n",
       "      <td>...</td>\n",
       "    </tr>\n",
       "    <tr>\n",
       "      <th>9959</th>\n",
       "      <td>Truck</td>\n",
       "      <td>60</td>\n",
       "      <td>166571</td>\n",
       "      <td>599655.60</td>\n",
       "      <td>3.60</td>\n",
       "      <td>0.06</td>\n",
       "      <td>25880.000000</td>\n",
       "      <td>46111.55</td>\n",
       "      <td>705.79</td>\n",
       "      <td>-16</td>\n",
       "      <td>...</td>\n",
       "      <td>0</td>\n",
       "      <td>0</td>\n",
       "      <td>0</td>\n",
       "      <td>0</td>\n",
       "      <td>0</td>\n",
       "      <td>0</td>\n",
       "      <td>0</td>\n",
       "      <td>0</td>\n",
       "      <td>1</td>\n",
       "      <td>0</td>\n",
       "    </tr>\n",
       "    <tr>\n",
       "      <th>9960</th>\n",
       "      <td>Truck</td>\n",
       "      <td>60</td>\n",
       "      <td>21072</td>\n",
       "      <td>137389.44</td>\n",
       "      <td>6.52</td>\n",
       "      <td>0.11</td>\n",
       "      <td>4426.000000</td>\n",
       "      <td>14734.92</td>\n",
       "      <td>161.71</td>\n",
       "      <td>6</td>\n",
       "      <td>...</td>\n",
       "      <td>0</td>\n",
       "      <td>0</td>\n",
       "      <td>0</td>\n",
       "      <td>0</td>\n",
       "      <td>0</td>\n",
       "      <td>0</td>\n",
       "      <td>0</td>\n",
       "      <td>0</td>\n",
       "      <td>1</td>\n",
       "      <td>0</td>\n",
       "    </tr>\n",
       "    <tr>\n",
       "      <th>9961</th>\n",
       "      <td>Truck</td>\n",
       "      <td>30</td>\n",
       "      <td>514526</td>\n",
       "      <td>5140114.74</td>\n",
       "      <td>9.99</td>\n",
       "      <td>0.33</td>\n",
       "      <td>4516.521007</td>\n",
       "      <td>0.00</td>\n",
       "      <td>5284.04</td>\n",
       "      <td>-6</td>\n",
       "      <td>...</td>\n",
       "      <td>0</td>\n",
       "      <td>0</td>\n",
       "      <td>0</td>\n",
       "      <td>0</td>\n",
       "      <td>0</td>\n",
       "      <td>0</td>\n",
       "      <td>0</td>\n",
       "      <td>0</td>\n",
       "      <td>1</td>\n",
       "      <td>0</td>\n",
       "    </tr>\n",
       "    <tr>\n",
       "      <th>9962</th>\n",
       "      <td>Truck</td>\n",
       "      <td>60</td>\n",
       "      <td>17465</td>\n",
       "      <td>113871.80</td>\n",
       "      <td>6.52</td>\n",
       "      <td>0.11</td>\n",
       "      <td>1392.000000</td>\n",
       "      <td>0.00</td>\n",
       "      <td>134.03</td>\n",
       "      <td>-36</td>\n",
       "      <td>...</td>\n",
       "      <td>0</td>\n",
       "      <td>0</td>\n",
       "      <td>0</td>\n",
       "      <td>0</td>\n",
       "      <td>0</td>\n",
       "      <td>0</td>\n",
       "      <td>0</td>\n",
       "      <td>0</td>\n",
       "      <td>0</td>\n",
       "      <td>1</td>\n",
       "    </tr>\n",
       "    <tr>\n",
       "      <th>9963</th>\n",
       "      <td>Truck</td>\n",
       "      <td>60</td>\n",
       "      <td>36639</td>\n",
       "      <td>72911.61</td>\n",
       "      <td>1.99</td>\n",
       "      <td>0.03</td>\n",
       "      <td>4516.521007</td>\n",
       "      <td>0.00</td>\n",
       "      <td>85.82</td>\n",
       "      <td>-27</td>\n",
       "      <td>...</td>\n",
       "      <td>0</td>\n",
       "      <td>0</td>\n",
       "      <td>0</td>\n",
       "      <td>0</td>\n",
       "      <td>0</td>\n",
       "      <td>0</td>\n",
       "      <td>0</td>\n",
       "      <td>0</td>\n",
       "      <td>1</td>\n",
       "      <td>0</td>\n",
       "    </tr>\n",
       "  </tbody>\n",
       "</table>\n",
       "<p>9964 rows × 509 columns</p>\n",
       "</div>"
      ],
      "text/plain": [
       "     ship_mode  per_pack_qty  line_qty  line_value  pack_price  unit_price  \\\n",
       "0          Air            30        19      551.00       29.00        0.97   \n",
       "1          Air           240      1000     6200.00        6.20        0.03   \n",
       "2          Air           100       500    40000.00       80.00        0.80   \n",
       "3          Air            60     31920   127360.80        3.99        0.07   \n",
       "4          Air            60     38000   121600.00        3.20        0.05   \n",
       "...        ...           ...       ...         ...         ...         ...   \n",
       "9959     Truck            60    166571   599655.60        3.60        0.06   \n",
       "9960     Truck            60     21072   137389.44        6.52        0.11   \n",
       "9961     Truck            30    514526  5140114.74        9.99        0.33   \n",
       "9962     Truck            60     17465   113871.80        6.52        0.11   \n",
       "9963     Truck            60     36639    72911.61        1.99        0.03   \n",
       "\n",
       "            weight   freight  insurance  delay  ...  \\\n",
       "0        13.000000    780.34       0.83      0  ...   \n",
       "1       358.000000   4521.50       9.31      0  ...   \n",
       "2       171.000000   1653.78      60.09      0  ...   \n",
       "3      1855.000000  16007.06     191.34      0  ...   \n",
       "4      7590.000000  45450.08     182.68      0  ...   \n",
       "...            ...       ...        ...    ...  ...   \n",
       "9959  25880.000000  46111.55     705.79    -16  ...   \n",
       "9960   4426.000000  14734.92     161.71      6  ...   \n",
       "9961   4516.521007      0.00    5284.04     -6  ...   \n",
       "9962   1392.000000      0.00     134.03    -36  ...   \n",
       "9963   4516.521007      0.00      85.82    -27  ...   \n",
       "\n",
       "      manu_site_Remedica, Limassol, Cyprus  manu_site_Roche Basel  \\\n",
       "0                                        0                      0   \n",
       "1                                        0                      0   \n",
       "2                                        0                      0   \n",
       "3                                        0                      0   \n",
       "4                                        0                      0   \n",
       "...                                    ...                    ...   \n",
       "9959                                     0                      0   \n",
       "9960                                     0                      0   \n",
       "9961                                     0                      0   \n",
       "9962                                     0                      0   \n",
       "9963                                     0                      0   \n",
       "\n",
       "      manu_site_Roche Madrid  manu_site_Standard Diagnostics, Korea  \\\n",
       "0                          0                                      0   \n",
       "1                          0                                      0   \n",
       "2                          0                                      0   \n",
       "3                          0                                      0   \n",
       "4                          0                                      0   \n",
       "...                      ...                                    ...   \n",
       "9959                       0                                      0   \n",
       "9960                       0                                      0   \n",
       "9961                       0                                      0   \n",
       "9962                       0                                      0   \n",
       "9963                       0                                      0   \n",
       "\n",
       "      manu_site_Strides, Bangalore, India.  manu_site_Trinity Biotech, Plc  \\\n",
       "0                                        0                               0   \n",
       "1                                        0                               0   \n",
       "2                                        0                               0   \n",
       "3                                        0                               0   \n",
       "4                                        0                               0   \n",
       "...                                    ...                             ...   \n",
       "9959                                     0                               0   \n",
       "9960                                     0                               0   \n",
       "9961                                     0                               0   \n",
       "9962                                     0                               0   \n",
       "9963                                     0                               0   \n",
       "\n",
       "      manu_site_Weifa A.S., Hausmanngt. 6, P.O. Box 9113 GrÃ¸nland, 0133, Oslo, Norway  \\\n",
       "0                                                     0                                  \n",
       "1                                                     0                                  \n",
       "2                                                     0                                  \n",
       "3                                                     0                                  \n",
       "4                                                     0                                  \n",
       "...                                                 ...                                  \n",
       "9959                                                  0                                  \n",
       "9960                                                  0                                  \n",
       "9961                                                  0                                  \n",
       "9962                                                  0                                  \n",
       "9963                                                  0                                  \n",
       "\n",
       "      manu_site_bioLytical Laboratories  first_line_No  first_line_Yes  \n",
       "0                                     0              0               1  \n",
       "1                                     0              0               1  \n",
       "2                                     0              0               1  \n",
       "3                                     0              0               1  \n",
       "4                                     0              0               1  \n",
       "...                                 ...            ...             ...  \n",
       "9959                                  0              1               0  \n",
       "9960                                  0              1               0  \n",
       "9961                                  0              1               0  \n",
       "9962                                  0              0               1  \n",
       "9963                                  0              1               0  \n",
       "\n",
       "[9964 rows x 509 columns]"
      ]
     },
     "execution_count": 5,
     "metadata": {},
     "output_type": "execute_result"
    }
   ],
   "source": [
    "df"
   ]
  },
  {
   "cell_type": "code",
   "execution_count": 6,
   "id": "d5ccbcfa-bf9a-4efd-9562-2c1efd52b027",
   "metadata": {},
   "outputs": [],
   "source": [
    "X = df.drop(columns=['ship_mode'])\n",
    "l = LabelEncoder()\n",
    "y = l.fit_transform(df['ship_mode'])"
   ]
  },
  {
   "cell_type": "code",
   "execution_count": 7,
   "id": "e17cc527-5831-4c21-aaf9-34e4d89849f2",
   "metadata": {},
   "outputs": [],
   "source": [
    "#Train test split\n",
    "from sklearn.model_selection import train_test_split\n",
    "X_train, X_test, y_train, y_test = train_test_split(X,y, test_size=0.25, random_state=10)"
   ]
  },
  {
   "cell_type": "code",
   "execution_count": 8,
   "id": "8c2647e4-a433-435d-89dd-afe4fdeb091b",
   "metadata": {},
   "outputs": [],
   "source": [
    "scaler = StandardScaler()\n",
    "scaler.fit(X_train)\n",
    "X_train = pd.DataFrame(scaler.transform(X_train), index = X_train.index, columns = X_train.columns)\n",
    "X_test =  pd.DataFrame(scaler.transform(X_test), index = X_test.index, columns = X_test.columns)"
   ]
  },
  {
   "cell_type": "code",
   "execution_count": 9,
   "id": "1aa7502b-ee0c-4204-bf7a-599a034937a3",
   "metadata": {},
   "outputs": [
    {
     "name": "stdout",
     "output_type": "stream",
     "text": [
      "Epoch 1/100\n",
      "187/187 [==============================] - 5s 11ms/step - loss: 0.4092 - accuracy: 0.8453 - val_loss: 0.2632 - val_accuracy: 0.8916\n",
      "Epoch 2/100\n",
      "187/187 [==============================] - 1s 6ms/step - loss: 0.2186 - accuracy: 0.9088 - val_loss: 0.2798 - val_accuracy: 0.8983\n",
      "Epoch 3/100\n",
      "187/187 [==============================] - 1s 5ms/step - loss: 0.1815 - accuracy: 0.9241 - val_loss: 0.2677 - val_accuracy: 0.9110\n",
      "Epoch 4/100\n",
      "187/187 [==============================] - 1s 5ms/step - loss: 0.1545 - accuracy: 0.9351 - val_loss: 0.2869 - val_accuracy: 0.8983\n",
      "Epoch 5/100\n",
      "187/187 [==============================] - 1s 4ms/step - loss: 0.1339 - accuracy: 0.9436 - val_loss: 0.3055 - val_accuracy: 0.9050\n",
      "Epoch 6/100\n",
      "187/187 [==============================] - 1s 5ms/step - loss: 0.1208 - accuracy: 0.9508 - val_loss: 0.2779 - val_accuracy: 0.9064\n"
     ]
    }
   ],
   "source": [
    "inputs = tf.keras.Input(shape=(508,))\n",
    "hide1 = tf.keras.layers.Dense(256, activation='relu')(inputs)\n",
    "hide2 = tf.keras.layers.Dense(128, activation='relu')(hide1)\n",
    "hide3 = tf.keras.layers.Dense(64, activation='relu')(hide2)\n",
    "hide4 = tf.keras.layers.Dense(32, activation='relu')(hide3)\n",
    "outputs = tf.keras.layers.Dense(4, activation='softmax')(hide4)\n",
    "\n",
    "model = tf.keras.Model(inputs=inputs, outputs=outputs)\n",
    "\n",
    "model.compile(optimizer='adam',loss='sparse_categorical_crossentropy',metrics=['accuracy'])\n",
    "\n",
    "history = model.fit(X_train,y_train,validation_split=0.2,batch_size=32,epochs=100,\n",
    "    callbacks=[tf.keras.callbacks.EarlyStopping(monitor='val_loss', patience=5, restore_best_weights=True)])"
   ]
  },
  {
   "cell_type": "code",
   "execution_count": 10,
   "id": "a4984618-6af4-4cdc-b8d5-1d63c7489c86",
   "metadata": {},
   "outputs": [
    {
     "name": "stdout",
     "output_type": "stream",
     "text": [
      "{'Air': 0, 'Air Charter': 1, 'Ocean': 2, 'Truck': 3}\n"
     ]
    }
   ],
   "source": [
    "LABEL_MAP = dict(zip(l.classes_, l.transform(l.classes_)))\n",
    "print(LABEL_MAP)"
   ]
  },
  {
   "cell_type": "code",
   "execution_count": 11,
   "id": "72156121-1fa7-4b21-80f7-dcc596a8cd69",
   "metadata": {
    "tags": []
   },
   "outputs": [
    {
     "name": "stdout",
     "output_type": "stream",
     "text": [
      "Test Set Accuracy: 89.72%\n"
     ]
    },
    {
     "data": {
      "image/png": "[encoded data removed]",
      "text/plain": [
       "<Figure size 576x576 with 1 Axes>"
      ]
     },
     "metadata": {
      "needs_background": "light"
     },
     "output_type": "display_data"
    },
    {
     "name": "stdout",
     "output_type": "stream",
     "text": [
      "Classification Report:\n",
      "----------------------\n",
      "               precision    recall  f1-score   support\n",
      "\n",
      "         Air       0.91      0.93      0.92      1546\n",
      " Air Charter       0.86      0.80      0.83       153\n",
      "       Ocean       0.69      0.82      0.75        84\n",
      "       Truck       0.91      0.86      0.88       708\n",
      "\n",
      "    accuracy                           0.90      2491\n",
      "   macro avg       0.84      0.85      0.85      2491\n",
      "weighted avg       0.90      0.90      0.90      2491\n",
      "\n"
     ]
    }
   ],
   "source": [
    "y_pred = np.argmax(model.predict(X_test), axis=1)\n",
    "\n",
    "cm = confusion_matrix(y_test, y_pred, labels=list(LABEL_MAP.values()))\n",
    "clr = classification_report(y_test, y_pred, labels=list(LABEL_MAP.values()), target_names=list(LABEL_MAP.keys()))\n",
    "\n",
    "print(\"Test Set Accuracy: {:.2f}%\".format(model.evaluate(X_test, y_test, verbose=0)[1] * 100))\n",
    "\n",
    "plt.figure(figsize=(8, 8))\n",
    "sns.heatmap(cm, annot=True, fmt='g', vmin=0, cmap='Blues', cbar=False)\n",
    "plt.xticks(ticks=[0.5, 1.5, 2.5, 3.5], labels=list(LABEL_MAP.keys()))\n",
    "plt.yticks(ticks=[0.5, 1.5, 2.5, 3.5], labels=list(LABEL_MAP.keys()))\n",
    "plt.xlabel(\"Predicted\")\n",
    "plt.ylabel(\"Actual\")\n",
    "plt.title(\"Confusion Matrix\")\n",
    "plt.show()\n",
    "\n",
    "print(\"Classification Report:\\n----------------------\\n\", clr)"
   ]
  },
  {
   "cell_type": "code",
   "execution_count": null,
   "id": "47f6a7eb-0a08-427a-83a3-f96d57349be5",
   "metadata": {},
   "outputs": [],
   "source": []
  },
  {
   "cell_type": "markdown",
   "id": "2d83b3d9-e6f2-458c-82f4-a5de5ca129f0",
   "metadata": {},
   "source": [
    "## Pipelined Model"
   ]
  },
  {
   "cell_type": "code",
   "execution_count": 13,
   "id": "a011a8d2-86c2-4b27-9e04-d067f402ac0e",
   "metadata": {},
   "outputs": [],
   "source": [
    "from sklearn.pipeline import Pipeline, FeatureUnion\n",
    "from sklearn.preprocessing import OneHotEncoder, LabelEncoder, StandardScaler, FunctionTransformer\n",
    "from sklearn.compose import ColumnTransformer\n",
    "from sklearn.tree import DecisionTreeClassifier\n",
    "from sklearn.model_selection import train_test_split\n",
    "from scipy.sparse import csr_matrix\n",
    "import pickle"
   ]
  },
  {
   "cell_type": "markdown",
   "id": "b7366028-f4e5-4a18-adf3-b479de3670b2",
   "metadata": {},
   "source": [
    "#### Create Preprocessing Pipelines"
   ]
  },
  {
   "cell_type": "code",
   "execution_count": 14,
   "id": "471f1879-5f70-4f3a-8204-c569d70ee5db",
   "metadata": {},
   "outputs": [],
   "source": [
    "df = pd.read_csv('pre_encoding_data.csv')"
   ]
  },
  {
   "cell_type": "code",
   "execution_count": 15,
   "id": "3380af17-ac52-4ad4-b866-3681181d9ffd",
   "metadata": {},
   "outputs": [],
   "source": [
    "cat_feats = df.dtypes[df.dtypes == 'object'].index.tolist()\n",
    "num_feats = df.dtypes[~df.dtypes.index.isin(cat_feats)].index.tolist()\n",
    "\n",
    "#Convert cat_feats to categorical\n",
    "for col in cat_feats:\n",
    "    df[col] = df[col].astype('str')\n",
    "\n",
    "# Removing Shipment Mode from cat_feats as it is the dependant variable\n",
    "cat_feats.remove('ship_mode')"
   ]
  },
  {
   "cell_type": "code",
   "execution_count": 16,
   "id": "32853f3a-0aee-4818-8893-249b30716fd9",
   "metadata": {},
   "outputs": [],
   "source": [
    "X = df.drop(columns=['ship_mode'])\n",
    "l = LabelEncoder()\n",
    "y = l.fit_transform(df['ship_mode'])"
   ]
  },
  {
   "cell_type": "code",
   "execution_count": 17,
   "id": "61bfa74f-ea08-4ccd-b48a-b80605f2d5c7",
   "metadata": {},
   "outputs": [],
   "source": [
    "numerical = Pipeline([('standard_scaler', StandardScaler())])\n",
    "                            \n",
    "categorical = Pipeline([('encode', OneHotEncoder()),('Dense',FunctionTransformer(csr_matrix.todense))])\n",
    "\n",
    "preprocess = ColumnTransformer([('categorical', categorical, cat_feats),('numerical', numerical, num_feats)])"
   ]
  },
  {
   "cell_type": "code",
   "execution_count": 18,
   "id": "a345b6ea-e21f-4440-af00-1028a8ee358c",
   "metadata": {
    "tags": []
   },
   "outputs": [],
   "source": [
    "#Fit Preprocess to data\n",
    "X = preprocess.fit_transform(X)"
   ]
  },
  {
   "cell_type": "code",
   "execution_count": 19,
   "id": "ff75d736-4fb8-463b-9055-e3beb77ef505",
   "metadata": {
    "tags": []
   },
   "outputs": [],
   "source": [
    "# save the preprocess\n",
    "pickle.dump(preprocess, open('preprocess.pkl', 'wb'))"
   ]
  },
  {
   "cell_type": "code",
   "execution_count": 20,
   "id": "563d1e83-2180-45f4-95ed-e6282bda6005",
   "metadata": {},
   "outputs": [
    {
     "data": {
      "text/plain": [
       "(7473, 508)"
      ]
     },
     "execution_count": 20,
     "metadata": {},
     "output_type": "execute_result"
    }
   ],
   "source": [
    "# Train test split\n",
    "X_train, X_test, y_train, y_test = train_test_split(X,y, test_size=0.25, random_state=50)\n",
    "X_train.shape"
   ]
  },
  {
   "cell_type": "code",
   "execution_count": 21,
   "id": "2f62a225-7ec1-48db-8168-f6c851f2106f",
   "metadata": {},
   "outputs": [
    {
     "name": "stdout",
     "output_type": "stream",
     "text": [
      "Epoch 1/100\n",
      "187/187 [==============================] - 1s 4ms/step - loss: 0.4706 - accuracy: 0.8070 - val_loss: 0.2571 - val_accuracy: 0.8923\n",
      "Epoch 2/100\n",
      "187/187 [==============================] - 1s 4ms/step - loss: 0.2179 - accuracy: 0.9169 - val_loss: 0.2242 - val_accuracy: 0.9144\n",
      "Epoch 3/100\n",
      "187/187 [==============================] - 1s 3ms/step - loss: 0.1697 - accuracy: 0.9376 - val_loss: 0.2415 - val_accuracy: 0.8957\n",
      "Epoch 4/100\n",
      "187/187 [==============================] - 1s 3ms/step - loss: 0.1348 - accuracy: 0.9490 - val_loss: 0.2025 - val_accuracy: 0.9231\n",
      "Epoch 5/100\n",
      "187/187 [==============================] - 1s 3ms/step - loss: 0.1043 - accuracy: 0.9620 - val_loss: 0.1917 - val_accuracy: 0.9278\n",
      "Epoch 6/100\n",
      "187/187 [==============================] - 1s 3ms/step - loss: 0.0901 - accuracy: 0.9674 - val_loss: 0.1894 - val_accuracy: 0.9304\n",
      "Epoch 7/100\n",
      "187/187 [==============================] - 1s 4ms/step - loss: 0.0820 - accuracy: 0.9689 - val_loss: 0.1972 - val_accuracy: 0.9331\n",
      "Epoch 8/100\n",
      "187/187 [==============================] - 1s 4ms/step - loss: 0.0660 - accuracy: 0.9767 - val_loss: 0.2239 - val_accuracy: 0.9324\n",
      "Epoch 9/100\n",
      "187/187 [==============================] - 1s 3ms/step - loss: 0.0491 - accuracy: 0.9838 - val_loss: 0.2555 - val_accuracy: 0.9258\n",
      "Epoch 10/100\n",
      "187/187 [==============================] - 1s 3ms/step - loss: 0.0496 - accuracy: 0.9833 - val_loss: 0.2556 - val_accuracy: 0.9264\n",
      "Epoch 11/100\n",
      "187/187 [==============================] - 1s 3ms/step - loss: 0.0382 - accuracy: 0.9876 - val_loss: 0.2464 - val_accuracy: 0.9331\n"
     ]
    }
   ],
   "source": [
    "inputs = tf.keras.Input(shape=(508,))\n",
    "hide1 = tf.keras.layers.Dense(256, activation='relu')(inputs)\n",
    "hide2 = tf.keras.layers.Dense(128, activation='relu')(hide1)\n",
    "hide3 = tf.keras.layers.Dense(64, activation='relu')(hide2)\n",
    "hide4 = tf.keras.layers.Dense(32, activation='relu')(hide3)\n",
    "outputs = tf.keras.layers.Dense(4, activation='softmax')(hide4)\n",
    "\n",
    "model = tf.keras.Model(inputs=inputs, outputs=outputs)\n",
    "\n",
    "model.compile(optimizer='adam',loss='sparse_categorical_crossentropy',metrics=['accuracy'])\n",
    "\n",
    "history = model.fit(X_train,y_train,validation_split=0.2,batch_size=32,epochs=100,\n",
    "    callbacks=[tf.keras.callbacks.EarlyStopping(monitor='val_loss', patience=5, restore_best_weights=True)])"
   ]
  },
  {
   "cell_type": "code",
   "execution_count": 22,
   "id": "5b2d96dc-df9c-4d06-ab73-c7840e5b81f2",
   "metadata": {},
   "outputs": [
    {
     "name": "stdout",
     "output_type": "stream",
     "text": [
      "Test Set Accuracy: 92.77%\n"
     ]
    },
    {
     "data": {
      "image/png": "[encoded data removed]",
      "text/plain": [
       "<Figure size 576x576 with 1 Axes>"
      ]
     },
     "metadata": {
      "needs_background": "light"
     },
     "output_type": "display_data"
    },
    {
     "name": "stdout",
     "output_type": "stream",
     "text": [
      "Classification Report:\n",
      "----------------------\n",
      "               precision    recall  f1-score   support\n",
      "\n",
      "         Air       0.93      0.95      0.94      1569\n",
      " Air Charter       0.93      0.96      0.95       162\n",
      "       Ocean       0.85      0.84      0.84        92\n",
      "       Truck       0.92      0.87      0.90       668\n",
      "\n",
      "    accuracy                           0.93      2491\n",
      "   macro avg       0.91      0.91      0.91      2491\n",
      "weighted avg       0.93      0.93      0.93      2491\n",
      "\n"
     ]
    }
   ],
   "source": [
    "# Transform preprocess and save for deployment\n",
    "y_pred = np.argmax(model.predict(X_test), axis=1)\n",
    "\n",
    "cm = confusion_matrix(y_test, y_pred, labels=list(LABEL_MAP.values()))\n",
    "clr = classification_report(y_test, y_pred, labels=list(LABEL_MAP.values()), target_names=list(LABEL_MAP.keys()))\n",
    "\n",
    "print(\"Test Set Accuracy: {:.2f}%\".format(model.evaluate(X_test, y_test, verbose=0)[1] * 100))\n",
    "\n",
    "plt.figure(figsize=(8, 8))\n",
    "sns.heatmap(cm, annot=True, fmt='g', vmin=0, cmap='Blues', cbar=False)\n",
    "plt.xticks(ticks=[0.5, 1.5, 2.5, 3.5], labels=list(LABEL_MAP.keys()))\n",
    "plt.yticks(ticks=[0.5, 1.5, 2.5, 3.5], labels=list(LABEL_MAP.keys()))\n",
    "plt.xlabel(\"Predicted\")\n",
    "plt.ylabel(\"Actual\")\n",
    "plt.title(\"Confusion Matrix\")\n",
    "plt.show()\n",
    "\n",
    "print(\"Classification Report:\\n----------------------\\n\", clr)"
   ]
  },
  {
   "cell_type": "code",
   "execution_count": 24,
   "id": "61521ddd-993a-4ce0-b41b-5b349f4f99bd",
   "metadata": {},
   "outputs": [
    {
     "name": "stdout",
     "output_type": "stream",
     "text": [
      "INFO:tensorflow:Assets written to: best_mode_transport/assets\n"
     ]
    }
   ],
   "source": [
    "# Save the model\n",
    "model.save('best_mode_transport')"
   ]
  },
  {
   "cell_type": "code",
   "execution_count": null,
   "id": "48be8824-0534-4a36-bff2-8cbe4adae119",
   "metadata": {},
   "outputs": [],
   "source": []
  }
 ],
 "metadata": {
  "kernelspec": {
   "display_name": "test_env",
   "language": "python",
   "name": "test_env"
  },
  "language_info": {
   "codemirror_mode": {
    "name": "ipython",
    "version": 3
   },
   "file_extension": ".py",
   "mimetype": "text/x-python",
   "name": "python",
   "nbconvert_exporter": "python",
   "pygments_lexer": "ipython3",
   "version": "3.6.13"
  }
 },
 "nbformat": 4,
 "nbformat_minor": 5
}
